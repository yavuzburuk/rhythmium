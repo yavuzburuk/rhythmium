{
  "nbformat": 4,
  "nbformat_minor": 0,
  "metadata": {
    "colab": {
      "provenance": []
    },
    "kernelspec": {
      "name": "python3",
      "display_name": "Python 3"
    },
    "language_info": {
      "name": "python"
    }
  },
  "cells": [
    {
      "cell_type": "code",
      "execution_count": 1,
      "metadata": {
        "id": "AVyv9EWwfRfc"
      },
      "outputs": [],
      "source": [
        "import os\n",
        "import numpy as np\n",
        "import pandas as pd\n",
        "from random import seed\n",
        "from random import randint\n",
        "from IPython.display import Image, Audio\n",
        "#from PIL import Image\n",
        "import pickle\n",
        "import copy\n",
        "from music21 import *\n",
        "import music21 as m21\n",
        "from google.colab import files\n",
        "import re"
      ]
    },
    {
      "cell_type": "code",
      "source": [
        "!yes | add-apt-repository ppa:mscore-ubuntu/mscore3-stable\n",
        "!apt update\n",
        "!apt install musescore3\n",
        "print(\"MuseScore installation finished\")\n",
        "\n",
        "!pip uninstall music21\n",
        "!pip install music21\n",
        "#from music21 import note\n",
        "\n",
        "\n",
        "from music21 import *\n",
        "import music21 as m21"
      ],
      "metadata": {
        "colab": {
          "base_uri": "https://localhost:8080/"
        },
        "id": "YuYiYWYcLHDx",
        "outputId": "c7a81f54-6310-4715-f2c1-f81c8b58d572"
      },
      "execution_count": 2,
      "outputs": [
        {
          "output_type": "stream",
          "name": "stdout",
          "text": [
            "Repository: 'deb https://ppa.launchpadcontent.net/mscore-ubuntu/mscore3-stable/ubuntu/ jammy main'\n",
            "Description:\n",
            "~~~~~~~~~ MUSESCORE 3 RELEASES FOR UBUNTU 18.04 AND LATER ~~~~~~~~~\n",
            "Note that Canonical doesn’t allow new builds for releases marked obsolete\n",
            "(any nōn-LTS predating the previous LTS (currently 24.04 “noble”), and any LTS\n",
            "older than 7 years, currently anything before 14.04 “trusty”). The packages\n",
            "for those older releases here can no longer be updated but still work, within\n",
            "limitations. Best to upgrade to a supported release of the operating system!\n",
            "\n",
            "INSTALLING: (run these commands from the terminal)\n",
            "  sudo add-apt-repository ppa:mscore-ubuntu/mscore3-stable\n",
            "  sudo apt-get update\n",
            "  sudo apt-get install musescore3\n",
            "\n",
            "DO *NOT* USE THESE PPAs on Debian, only on Ubuntu!\n",
            "\n",
            "‣‣‣ These packages are NOT suitable for ”KDE neon 18.04 (bionic)”!\n",
            "‣ Use https://build.opensuse.org/project/show/home:mirabile:mscore instead.\n",
            "⚠ KDE neon 18.04 was discontinued so those packages can no longer be updated.\n",
            "↓ Newer versions, such as “KDE neon 20.04 (focal)”, should work. If not, write me.\n",
            "\n",
            "See https://launchpad.net/~mscore-ubuntu/+archive/ubuntu/mscore-stable\n",
            "if you need to install MuseScore 2 (the older version) for some reason.\n",
            "\n",
            "Note: MuseScore 3 cannot be made available for releases older than\n",
            "Ubuntu 18.04 (“bionic”) LTS.\n",
            "\n",
            "                                GETTING HELP:\n",
            " * Have a look at the Online Handbook: https://musescore.org/en/handbook/3\n",
            " * Ask on the Forums: https://musescore.org/forum\n",
            "   – possibly try unaffiliated forums; if you speak German, for example:\n",
            "     ‣ http://www.notensatzforum.net/f2-MuseScore-Forum.html\n",
            "     ‣ https://www.musiker-board.de/forum/musescore.934/\n",
            "   – Make sure to mention you’re using Mu͒seScore 3.\n",
            " * Try searching the web for \"musescore\" and the problem you are having.\n",
            " * Unfortunately, SOL if you end here. The new holding company is very much not\n",
            "   interested in continuing to provide a̲n̲y̲ kind of support for classic MuseScore.\n",
            "   A community fork https://sites.google.com/view/musescore-3-evolution/ exists\n",
            "   and is developing an unofficial 3.7 version, which however will not be fully\n",
            "   compatible with the musescore.‌com former “community” score-sharing site.\n",
            "\n",
            "Note that Mu͒seScore 4 will not be packaged by the same team because only its heavily\n",
            "feature-reduced core has even still source code available, and all the “cool” new\n",
            "features are binary-only and proprietary add-ons, often full of spyware.\n",
            "~~~~~~~~~ MUSESCORE 3 RELEASES FOR UBUNTU 18.04 AND LATER ~~~~~~~~~\n",
            "\n",
            "Users of cosmic (18.10), disco (19.04) and eoan (19.10) please also set up the\n",
            "MuseScore 2 repository linked above in order to get the latest soundfonts for\n",
            "their respective discontinued releases. We’re sorry we cannot provide newer\n",
            "packages for discontinued nōn-LTS releases on Launchpad.\n",
            "More info: https://launchpad.net/~mscore-ubuntu/+archive/ubuntu/mscore3-stable\n",
            "Adding repository.\n",
            "Adding deb entry to /etc/apt/sources.list.d/mscore-ubuntu-ubuntu-mscore3-stable-jammy.list\n",
            "Adding disabled deb-src entry to /etc/apt/sources.list.d/mscore-ubuntu-ubuntu-mscore3-stable-jammy.list\n",
            "Adding key to /etc/apt/trusted.gpg.d/mscore-ubuntu-ubuntu-mscore3-stable.gpg with fingerprint BA73545138B317ACDED4122004E482780EC0BBD2\n",
            "Get:1 http://security.ubuntu.com/ubuntu jammy-security InRelease [110 kB]\n",
            "Get:2 https://cloud.r-project.org/bin/linux/ubuntu jammy-cran40/ InRelease [3,626 B]\n",
            "Get:3 https://developer.download.nvidia.com/compute/cuda/repos/ubuntu2204/x86_64  InRelease [1,581 B]\n",
            "Hit:4 http://archive.ubuntu.com/ubuntu jammy InRelease\n",
            "Get:5 http://archive.ubuntu.com/ubuntu jammy-updates InRelease [119 kB]\n",
            "Hit:6 https://ppa.launchpadcontent.net/c2d4u.team/c2d4u4.0+/ubuntu jammy InRelease\n",
            "Get:7 http://security.ubuntu.com/ubuntu jammy-security/main amd64 Packages [1,442 kB]\n",
            "Hit:8 https://ppa.launchpadcontent.net/deadsnakes/ppa/ubuntu jammy InRelease\n",
            "Get:9 http://security.ubuntu.com/ubuntu jammy-security/universe amd64 Packages [1,065 kB]\n",
            "Get:10 http://security.ubuntu.com/ubuntu jammy-security/restricted amd64 Packages [1,755 kB]\n",
            "Get:11 http://archive.ubuntu.com/ubuntu jammy-backports InRelease [109 kB]\n",
            "Hit:12 https://ppa.launchpadcontent.net/graphics-drivers/ppa/ubuntu jammy InRelease\n",
            "Get:13 https://ppa.launchpadcontent.net/mscore-ubuntu/mscore3-stable/ubuntu jammy InRelease [17.6 kB]\n",
            "Hit:14 https://ppa.launchpadcontent.net/ubuntugis/ppa/ubuntu jammy InRelease\n",
            "Get:15 https://developer.download.nvidia.com/compute/cuda/repos/ubuntu2204/x86_64  Packages [673 kB]\n",
            "Get:16 http://archive.ubuntu.com/ubuntu jammy-updates/restricted amd64 Packages [1,810 kB]\n",
            "Get:17 http://archive.ubuntu.com/ubuntu jammy-updates/universe amd64 Packages [1,335 kB]\n",
            "Get:18 http://archive.ubuntu.com/ubuntu jammy-updates/main amd64 Packages [1,728 kB]\n",
            "Get:19 http://archive.ubuntu.com/ubuntu jammy-backports/universe amd64 Packages [28.1 kB]\n",
            "Get:20 https://ppa.launchpadcontent.net/mscore-ubuntu/mscore3-stable/ubuntu jammy/main amd64 Packages [1,022 B]\n",
            "Fetched 10.2 MB in 5s (2,131 kB/s)\n",
            "Reading package lists... Done\n",
            "Hit:1 http://security.ubuntu.com/ubuntu jammy-security InRelease\n",
            "Hit:2 https://cloud.r-project.org/bin/linux/ubuntu jammy-cran40/ InRelease\n",
            "Hit:3 https://developer.download.nvidia.com/compute/cuda/repos/ubuntu2204/x86_64  InRelease\n",
            "Hit:4 http://archive.ubuntu.com/ubuntu jammy InRelease\n",
            "Hit:5 http://archive.ubuntu.com/ubuntu jammy-updates InRelease\n",
            "Hit:6 http://archive.ubuntu.com/ubuntu jammy-backports InRelease\n",
            "Hit:7 https://ppa.launchpadcontent.net/c2d4u.team/c2d4u4.0+/ubuntu jammy InRelease\n",
            "Hit:8 https://ppa.launchpadcontent.net/deadsnakes/ppa/ubuntu jammy InRelease\n",
            "Hit:9 https://ppa.launchpadcontent.net/graphics-drivers/ppa/ubuntu jammy InRelease\n",
            "Hit:10 https://ppa.launchpadcontent.net/mscore-ubuntu/mscore3-stable/ubuntu jammy InRelease\n",
            "Hit:11 https://ppa.launchpadcontent.net/ubuntugis/ppa/ubuntu jammy InRelease\n",
            "Reading package lists... Done\n",
            "Building dependency tree... Done\n",
            "Reading state information... Done\n",
            "34 packages can be upgraded. Run 'apt list --upgradable' to see them.\n",
            "Reading package lists... Done\n",
            "Building dependency tree... Done\n",
            "Reading state information... Done\n",
            "The following additional packages will be installed:\n",
            "  desktop-file-utils fonts-freefont-ttf libevdev2 libgudev-1.0-0 libinput-bin libinput10 libmd4c0\n",
            "  libmtdev1 libpoppler-qt5-1 libportaudio2 libportmidi0 libqt5core5a libqt5dbus5 libqt5gui5\n",
            "  libqt5help5 libqt5network5 libqt5printsupport5 libqt5qml5 libqt5qmlmodels5 libqt5qmlworkerscript5\n",
            "  libqt5quick5 libqt5sql5 libqt5sql5-sqlite libqt5svg5 libqt5widgets5 libqt5xml5 libqt5xmlpatterns5\n",
            "  libwacom-bin libwacom-common libwacom9 libxcb-icccm4 libxcb-image0 libxcb-keysyms1\n",
            "  libxcb-render-util0 libxcb-util1 libxcb-xinerama0 libxcb-xinput0 libxcb-xkb1 libxkbcommon-x11-0\n",
            "  musescore-general-soundfont-small musescore3-common qml-module-qt-labs-folderlistmodel\n",
            "  qml-module-qt-labs-settings qml-module-qtgraphicaleffects qml-module-qtqml\n",
            "  qml-module-qtqml-models2 qml-module-qtquick-controls qml-module-qtquick-dialogs\n",
            "  qml-module-qtquick-layouts qml-module-qtquick-privatewidgets qml-module-qtquick-window2\n",
            "  qml-module-qtquick2 qt5-gtk-platformtheme qttranslations5-l10n\n",
            "Suggested packages:\n",
            "  qt5-image-formats-plugins qtwayland5 qt5-qmltooling-plugins pulseaudio-utils\n",
            "The following NEW packages will be installed:\n",
            "  desktop-file-utils fonts-freefont-ttf libevdev2 libgudev-1.0-0 libinput-bin libinput10 libmd4c0\n",
            "  libmtdev1 libpoppler-qt5-1 libportaudio2 libportmidi0 libqt5core5a libqt5dbus5 libqt5gui5\n",
            "  libqt5help5 libqt5network5 libqt5printsupport5 libqt5qml5 libqt5qmlmodels5 libqt5qmlworkerscript5\n",
            "  libqt5quick5 libqt5sql5 libqt5sql5-sqlite libqt5svg5 libqt5widgets5 libqt5xml5 libqt5xmlpatterns5\n",
            "  libwacom-bin libwacom-common libwacom9 libxcb-icccm4 libxcb-image0 libxcb-keysyms1\n",
            "  libxcb-render-util0 libxcb-util1 libxcb-xinerama0 libxcb-xinput0 libxcb-xkb1 libxkbcommon-x11-0\n",
            "  musescore-general-soundfont-small musescore3 musescore3-common qml-module-qt-labs-folderlistmodel\n",
            "  qml-module-qt-labs-settings qml-module-qtgraphicaleffects qml-module-qtqml\n",
            "  qml-module-qtqml-models2 qml-module-qtquick-controls qml-module-qtquick-dialogs\n",
            "  qml-module-qtquick-layouts qml-module-qtquick-privatewidgets qml-module-qtquick-window2\n",
            "  qml-module-qtquick2 qt5-gtk-platformtheme qttranslations5-l10n\n",
            "0 upgraded, 55 newly installed, 0 to remove and 34 not upgraded.\n",
            "Need to get 67.0 MB of archives.\n",
            "After this operation, 174 MB of additional disk space will be used.\n",
            "Get:1 http://archive.ubuntu.com/ubuntu jammy-updates/universe amd64 libqt5core5a amd64 5.15.3+dfsg-2ubuntu0.2 [2,006 kB]\n",
            "Get:2 https://ppa.launchpadcontent.net/mscore-ubuntu/mscore3-stable/ubuntu jammy/main amd64 musescore3-common all 3.2.3+dfsg2-16~ppa2204+1 [4,076 kB]\n",
            "Get:3 http://archive.ubuntu.com/ubuntu jammy/main amd64 libevdev2 amd64 1.12.1+dfsg-1 [39.5 kB]\n",
            "Get:4 http://archive.ubuntu.com/ubuntu jammy/main amd64 libmtdev1 amd64 1.1.6-1build4 [14.5 kB]\n",
            "Get:5 http://archive.ubuntu.com/ubuntu jammy/main amd64 libgudev-1.0-0 amd64 1:237-2build1 [16.3 kB]\n",
            "Get:6 http://archive.ubuntu.com/ubuntu jammy/main amd64 libwacom-common all 2.2.0-1 [54.3 kB]\n",
            "Get:7 http://archive.ubuntu.com/ubuntu jammy/main amd64 libwacom9 amd64 2.2.0-1 [22.0 kB]\n",
            "Get:8 http://archive.ubuntu.com/ubuntu jammy-updates/main amd64 libinput-bin amd64 1.20.0-1ubuntu0.3 [19.9 kB]\n",
            "Get:9 http://archive.ubuntu.com/ubuntu jammy-updates/main amd64 libinput10 amd64 1.20.0-1ubuntu0.3 [131 kB]\n",
            "Get:10 http://archive.ubuntu.com/ubuntu jammy/universe amd64 libmd4c0 amd64 0.4.8-1 [42.0 kB]\n",
            "Get:11 http://archive.ubuntu.com/ubuntu jammy-updates/universe amd64 libqt5dbus5 amd64 5.15.3+dfsg-2ubuntu0.2 [222 kB]\n",
            "Get:12 http://archive.ubuntu.com/ubuntu jammy-updates/universe amd64 libqt5network5 amd64 5.15.3+dfsg-2ubuntu0.2 [731 kB]\n",
            "Get:13 http://archive.ubuntu.com/ubuntu jammy/main amd64 libxcb-icccm4 amd64 0.4.1-1.1build2 [11.5 kB]\n",
            "Get:14 https://ppa.launchpadcontent.net/mscore-ubuntu/mscore3-stable/ubuntu jammy/main amd64 musescore3 amd64 3.2.3+dfsg2-16~ppa2204+1 [8,075 kB]\n",
            "Get:15 http://archive.ubuntu.com/ubuntu jammy/main amd64 libxcb-util1 amd64 0.4.0-1build2 [11.4 kB]\n",
            "Get:16 http://archive.ubuntu.com/ubuntu jammy/main amd64 libxcb-image0 amd64 0.4.0-2 [11.5 kB]\n",
            "Get:17 http://archive.ubuntu.com/ubuntu jammy/main amd64 libxcb-keysyms1 amd64 0.4.0-1build3 [8,746 B]\n",
            "Get:18 http://archive.ubuntu.com/ubuntu jammy/main amd64 libxcb-render-util0 amd64 0.3.9-1build3 [10.3 kB]\n",
            "Get:19 http://archive.ubuntu.com/ubuntu jammy/main amd64 libxcb-xinerama0 amd64 1.14-3ubuntu3 [5,414 B]\n",
            "Get:20 http://archive.ubuntu.com/ubuntu jammy/main amd64 libxcb-xinput0 amd64 1.14-3ubuntu3 [34.3 kB]\n",
            "Get:21 http://archive.ubuntu.com/ubuntu jammy/main amd64 libxcb-xkb1 amd64 1.14-3ubuntu3 [32.8 kB]\n",
            "Get:22 http://archive.ubuntu.com/ubuntu jammy/main amd64 libxkbcommon-x11-0 amd64 1.4.0-1 [14.4 kB]\n",
            "Get:23 http://archive.ubuntu.com/ubuntu jammy-updates/universe amd64 libqt5gui5 amd64 5.15.3+dfsg-2ubuntu0.2 [3,722 kB]\n",
            "Get:24 http://archive.ubuntu.com/ubuntu jammy-updates/universe amd64 libqt5widgets5 amd64 5.15.3+dfsg-2ubuntu0.2 [2,561 kB]\n",
            "Get:25 http://archive.ubuntu.com/ubuntu jammy/universe amd64 libqt5svg5 amd64 5.15.3-1 [149 kB]\n",
            "Get:26 http://archive.ubuntu.com/ubuntu jammy/universe amd64 libqt5qml5 amd64 5.15.3+dfsg-1 [1,472 kB]\n",
            "Get:27 http://archive.ubuntu.com/ubuntu jammy/universe amd64 libqt5qmlmodels5 amd64 5.15.3+dfsg-1 [205 kB]\n",
            "Get:28 http://archive.ubuntu.com/ubuntu jammy/universe amd64 libqt5quick5 amd64 5.15.3+dfsg-1 [1,748 kB]\n",
            "Get:29 http://archive.ubuntu.com/ubuntu jammy/universe amd64 qml-module-qtquick-window2 amd64 5.15.3+dfsg-1 [26.3 kB]\n",
            "Get:30 http://archive.ubuntu.com/ubuntu jammy/universe amd64 libqt5qmlworkerscript5 amd64 5.15.3+dfsg-1 [34.4 kB]\n",
            "Get:31 http://archive.ubuntu.com/ubuntu jammy/universe amd64 qml-module-qtquick2 amd64 5.15.3+dfsg-1 [33.7 kB]\n",
            "Get:32 http://archive.ubuntu.com/ubuntu jammy/universe amd64 qml-module-qtgraphicaleffects amd64 5.15.3-1 [74.3 kB]\n",
            "Get:33 http://archive.ubuntu.com/ubuntu jammy/universe amd64 qml-module-qtqml amd64 5.15.3+dfsg-1 [17.2 kB]\n",
            "Get:34 http://archive.ubuntu.com/ubuntu jammy/universe amd64 qml-module-qtqml-models2 amd64 5.15.3+dfsg-1 [18.0 kB]\n",
            "Get:35 http://archive.ubuntu.com/ubuntu jammy/universe amd64 qml-module-qtquick-layouts amd64 5.15.3+dfsg-1 [56.0 kB]\n",
            "Get:36 http://archive.ubuntu.com/ubuntu jammy/universe amd64 qml-module-qtquick-controls amd64 5.15.3-1 [577 kB]\n",
            "Get:37 http://archive.ubuntu.com/ubuntu jammy/main amd64 desktop-file-utils amd64 0.26-1ubuntu3 [55.9 kB]\n",
            "Get:38 http://archive.ubuntu.com/ubuntu jammy/main amd64 fonts-freefont-ttf all 20120503-10build1 [2,388 kB]\n",
            "Get:39 http://archive.ubuntu.com/ubuntu jammy-updates/universe amd64 libqt5xml5 amd64 5.15.3+dfsg-2ubuntu0.2 [124 kB]\n",
            "Get:40 http://archive.ubuntu.com/ubuntu jammy-updates/universe amd64 libpoppler-qt5-1 amd64 22.02.0-2ubuntu0.3 [177 kB]\n",
            "Get:41 http://archive.ubuntu.com/ubuntu jammy/universe amd64 libportaudio2 amd64 19.6.0-1.1 [65.3 kB]\n",
            "Get:42 http://archive.ubuntu.com/ubuntu jammy/universe amd64 libportmidi0 amd64 1:217-6 [17.8 kB]\n",
            "Get:43 http://archive.ubuntu.com/ubuntu jammy-updates/universe amd64 libqt5sql5 amd64 5.15.3+dfsg-2ubuntu0.2 [123 kB]\n",
            "Get:44 http://archive.ubuntu.com/ubuntu jammy/universe amd64 libqt5help5 amd64 5.15.3-1 [162 kB]\n",
            "Get:45 http://archive.ubuntu.com/ubuntu jammy-updates/universe amd64 libqt5printsupport5 amd64 5.15.3+dfsg-2ubuntu0.2 [214 kB]\n",
            "Get:46 http://archive.ubuntu.com/ubuntu jammy-updates/universe amd64 libqt5sql5-sqlite amd64 5.15.3+dfsg-2ubuntu0.2 [53.0 kB]\n",
            "Get:47 http://archive.ubuntu.com/ubuntu jammy/universe amd64 libqt5xmlpatterns5 amd64 5.15.3-1 [901 kB]\n",
            "Get:48 http://archive.ubuntu.com/ubuntu jammy/main amd64 libwacom-bin amd64 2.2.0-1 [13.6 kB]\n",
            "Get:49 http://archive.ubuntu.com/ubuntu jammy/universe amd64 musescore-general-soundfont-small all 0.2.1-1 [34.1 MB]\n",
            "Get:50 http://archive.ubuntu.com/ubuntu jammy/universe amd64 qml-module-qt-labs-folderlistmodel amd64 5.15.3+dfsg-1 [36.1 kB]\n",
            "Get:51 http://archive.ubuntu.com/ubuntu jammy/universe amd64 qml-module-qt-labs-settings amd64 5.15.3+dfsg-1 [26.5 kB]\n",
            "Get:52 http://archive.ubuntu.com/ubuntu jammy/universe amd64 qml-module-qtquick-privatewidgets amd64 5.15.3-1 [49.8 kB]\n",
            "Get:53 http://archive.ubuntu.com/ubuntu jammy/universe amd64 qml-module-qtquick-dialogs amd64 5.15.3-1 [132 kB]\n",
            "Get:54 http://archive.ubuntu.com/ubuntu jammy-updates/universe amd64 qt5-gtk-platformtheme amd64 5.15.3+dfsg-2ubuntu0.2 [130 kB]\n",
            "Get:55 http://archive.ubuntu.com/ubuntu jammy/universe amd64 qttranslations5-l10n all 5.15.3-1 [1,983 kB]\n",
            "Fetched 67.0 MB in 3s (26.8 MB/s)\n",
            "Extracting templates from packages: 100%\n",
            "Selecting previously unselected package libqt5core5a:amd64.\n",
            "(Reading database ... 121749 files and directories currently installed.)\n",
            "Preparing to unpack .../00-libqt5core5a_5.15.3+dfsg-2ubuntu0.2_amd64.deb ...\n",
            "Unpacking libqt5core5a:amd64 (5.15.3+dfsg-2ubuntu0.2) ...\n",
            "Selecting previously unselected package libevdev2:amd64.\n",
            "Preparing to unpack .../01-libevdev2_1.12.1+dfsg-1_amd64.deb ...\n",
            "Unpacking libevdev2:amd64 (1.12.1+dfsg-1) ...\n",
            "Selecting previously unselected package libmtdev1:amd64.\n",
            "Preparing to unpack .../02-libmtdev1_1.1.6-1build4_amd64.deb ...\n",
            "Unpacking libmtdev1:amd64 (1.1.6-1build4) ...\n",
            "Selecting previously unselected package libgudev-1.0-0:amd64.\n",
            "Preparing to unpack .../03-libgudev-1.0-0_1%3a237-2build1_amd64.deb ...\n",
            "Unpacking libgudev-1.0-0:amd64 (1:237-2build1) ...\n",
            "Selecting previously unselected package libwacom-common.\n",
            "Preparing to unpack .../04-libwacom-common_2.2.0-1_all.deb ...\n",
            "Unpacking libwacom-common (2.2.0-1) ...\n",
            "Selecting previously unselected package libwacom9:amd64.\n",
            "Preparing to unpack .../05-libwacom9_2.2.0-1_amd64.deb ...\n",
            "Unpacking libwacom9:amd64 (2.2.0-1) ...\n",
            "Selecting previously unselected package libinput-bin.\n",
            "Preparing to unpack .../06-libinput-bin_1.20.0-1ubuntu0.3_amd64.deb ...\n",
            "Unpacking libinput-bin (1.20.0-1ubuntu0.3) ...\n",
            "Selecting previously unselected package libinput10:amd64.\n",
            "Preparing to unpack .../07-libinput10_1.20.0-1ubuntu0.3_amd64.deb ...\n",
            "Unpacking libinput10:amd64 (1.20.0-1ubuntu0.3) ...\n",
            "Selecting previously unselected package libmd4c0:amd64.\n",
            "Preparing to unpack .../08-libmd4c0_0.4.8-1_amd64.deb ...\n",
            "Unpacking libmd4c0:amd64 (0.4.8-1) ...\n",
            "Selecting previously unselected package libqt5dbus5:amd64.\n",
            "Preparing to unpack .../09-libqt5dbus5_5.15.3+dfsg-2ubuntu0.2_amd64.deb ...\n",
            "Unpacking libqt5dbus5:amd64 (5.15.3+dfsg-2ubuntu0.2) ...\n",
            "Selecting previously unselected package libqt5network5:amd64.\n",
            "Preparing to unpack .../10-libqt5network5_5.15.3+dfsg-2ubuntu0.2_amd64.deb ...\n",
            "Unpacking libqt5network5:amd64 (5.15.3+dfsg-2ubuntu0.2) ...\n",
            "Selecting previously unselected package libxcb-icccm4:amd64.\n",
            "Preparing to unpack .../11-libxcb-icccm4_0.4.1-1.1build2_amd64.deb ...\n",
            "Unpacking libxcb-icccm4:amd64 (0.4.1-1.1build2) ...\n",
            "Selecting previously unselected package libxcb-util1:amd64.\n",
            "Preparing to unpack .../12-libxcb-util1_0.4.0-1build2_amd64.deb ...\n",
            "Unpacking libxcb-util1:amd64 (0.4.0-1build2) ...\n",
            "Selecting previously unselected package libxcb-image0:amd64.\n",
            "Preparing to unpack .../13-libxcb-image0_0.4.0-2_amd64.deb ...\n",
            "Unpacking libxcb-image0:amd64 (0.4.0-2) ...\n",
            "Selecting previously unselected package libxcb-keysyms1:amd64.\n",
            "Preparing to unpack .../14-libxcb-keysyms1_0.4.0-1build3_amd64.deb ...\n",
            "Unpacking libxcb-keysyms1:amd64 (0.4.0-1build3) ...\n",
            "Selecting previously unselected package libxcb-render-util0:amd64.\n",
            "Preparing to unpack .../15-libxcb-render-util0_0.3.9-1build3_amd64.deb ...\n",
            "Unpacking libxcb-render-util0:amd64 (0.3.9-1build3) ...\n",
            "Selecting previously unselected package libxcb-xinerama0:amd64.\n",
            "Preparing to unpack .../16-libxcb-xinerama0_1.14-3ubuntu3_amd64.deb ...\n",
            "Unpacking libxcb-xinerama0:amd64 (1.14-3ubuntu3) ...\n",
            "Selecting previously unselected package libxcb-xinput0:amd64.\n",
            "Preparing to unpack .../17-libxcb-xinput0_1.14-3ubuntu3_amd64.deb ...\n",
            "Unpacking libxcb-xinput0:amd64 (1.14-3ubuntu3) ...\n",
            "Selecting previously unselected package libxcb-xkb1:amd64.\n",
            "Preparing to unpack .../18-libxcb-xkb1_1.14-3ubuntu3_amd64.deb ...\n",
            "Unpacking libxcb-xkb1:amd64 (1.14-3ubuntu3) ...\n",
            "Selecting previously unselected package libxkbcommon-x11-0:amd64.\n",
            "Preparing to unpack .../19-libxkbcommon-x11-0_1.4.0-1_amd64.deb ...\n",
            "Unpacking libxkbcommon-x11-0:amd64 (1.4.0-1) ...\n",
            "Selecting previously unselected package libqt5gui5:amd64.\n",
            "Preparing to unpack .../20-libqt5gui5_5.15.3+dfsg-2ubuntu0.2_amd64.deb ...\n",
            "Unpacking libqt5gui5:amd64 (5.15.3+dfsg-2ubuntu0.2) ...\n",
            "Selecting previously unselected package libqt5widgets5:amd64.\n",
            "Preparing to unpack .../21-libqt5widgets5_5.15.3+dfsg-2ubuntu0.2_amd64.deb ...\n",
            "Unpacking libqt5widgets5:amd64 (5.15.3+dfsg-2ubuntu0.2) ...\n",
            "Selecting previously unselected package libqt5svg5:amd64.\n",
            "Preparing to unpack .../22-libqt5svg5_5.15.3-1_amd64.deb ...\n",
            "Unpacking libqt5svg5:amd64 (5.15.3-1) ...\n",
            "Selecting previously unselected package libqt5qml5:amd64.\n",
            "Preparing to unpack .../23-libqt5qml5_5.15.3+dfsg-1_amd64.deb ...\n",
            "Unpacking libqt5qml5:amd64 (5.15.3+dfsg-1) ...\n",
            "Selecting previously unselected package libqt5qmlmodels5:amd64.\n",
            "Preparing to unpack .../24-libqt5qmlmodels5_5.15.3+dfsg-1_amd64.deb ...\n",
            "Unpacking libqt5qmlmodels5:amd64 (5.15.3+dfsg-1) ...\n",
            "Selecting previously unselected package libqt5quick5:amd64.\n",
            "Preparing to unpack .../25-libqt5quick5_5.15.3+dfsg-1_amd64.deb ...\n",
            "Unpacking libqt5quick5:amd64 (5.15.3+dfsg-1) ...\n",
            "Selecting previously unselected package qml-module-qtquick-window2:amd64.\n",
            "Preparing to unpack .../26-qml-module-qtquick-window2_5.15.3+dfsg-1_amd64.deb ...\n",
            "Unpacking qml-module-qtquick-window2:amd64 (5.15.3+dfsg-1) ...\n",
            "Selecting previously unselected package libqt5qmlworkerscript5:amd64.\n",
            "Preparing to unpack .../27-libqt5qmlworkerscript5_5.15.3+dfsg-1_amd64.deb ...\n",
            "Unpacking libqt5qmlworkerscript5:amd64 (5.15.3+dfsg-1) ...\n",
            "Selecting previously unselected package qml-module-qtquick2:amd64.\n",
            "Preparing to unpack .../28-qml-module-qtquick2_5.15.3+dfsg-1_amd64.deb ...\n",
            "Unpacking qml-module-qtquick2:amd64 (5.15.3+dfsg-1) ...\n",
            "Selecting previously unselected package qml-module-qtgraphicaleffects:amd64.\n",
            "Preparing to unpack .../29-qml-module-qtgraphicaleffects_5.15.3-1_amd64.deb ...\n",
            "Unpacking qml-module-qtgraphicaleffects:amd64 (5.15.3-1) ...\n",
            "Selecting previously unselected package qml-module-qtqml:amd64.\n",
            "Preparing to unpack .../30-qml-module-qtqml_5.15.3+dfsg-1_amd64.deb ...\n",
            "Unpacking qml-module-qtqml:amd64 (5.15.3+dfsg-1) ...\n",
            "Selecting previously unselected package qml-module-qtqml-models2:amd64.\n",
            "Preparing to unpack .../31-qml-module-qtqml-models2_5.15.3+dfsg-1_amd64.deb ...\n",
            "Unpacking qml-module-qtqml-models2:amd64 (5.15.3+dfsg-1) ...\n",
            "Selecting previously unselected package qml-module-qtquick-layouts:amd64.\n",
            "Preparing to unpack .../32-qml-module-qtquick-layouts_5.15.3+dfsg-1_amd64.deb ...\n",
            "Unpacking qml-module-qtquick-layouts:amd64 (5.15.3+dfsg-1) ...\n",
            "Selecting previously unselected package qml-module-qtquick-controls:amd64.\n",
            "Preparing to unpack .../33-qml-module-qtquick-controls_5.15.3-1_amd64.deb ...\n",
            "Unpacking qml-module-qtquick-controls:amd64 (5.15.3-1) ...\n",
            "Selecting previously unselected package desktop-file-utils.\n",
            "Preparing to unpack .../34-desktop-file-utils_0.26-1ubuntu3_amd64.deb ...\n",
            "Unpacking desktop-file-utils (0.26-1ubuntu3) ...\n",
            "Selecting previously unselected package fonts-freefont-ttf.\n",
            "Preparing to unpack .../35-fonts-freefont-ttf_20120503-10build1_all.deb ...\n",
            "Unpacking fonts-freefont-ttf (20120503-10build1) ...\n",
            "Selecting previously unselected package libqt5xml5:amd64.\n",
            "Preparing to unpack .../36-libqt5xml5_5.15.3+dfsg-2ubuntu0.2_amd64.deb ...\n",
            "Unpacking libqt5xml5:amd64 (5.15.3+dfsg-2ubuntu0.2) ...\n",
            "Selecting previously unselected package libpoppler-qt5-1:amd64.\n",
            "Preparing to unpack .../37-libpoppler-qt5-1_22.02.0-2ubuntu0.3_amd64.deb ...\n",
            "Unpacking libpoppler-qt5-1:amd64 (22.02.0-2ubuntu0.3) ...\n",
            "Selecting previously unselected package libportaudio2:amd64.\n",
            "Preparing to unpack .../38-libportaudio2_19.6.0-1.1_amd64.deb ...\n",
            "Unpacking libportaudio2:amd64 (19.6.0-1.1) ...\n",
            "Selecting previously unselected package libportmidi0:amd64.\n",
            "Preparing to unpack .../39-libportmidi0_1%3a217-6_amd64.deb ...\n",
            "Unpacking libportmidi0:amd64 (1:217-6) ...\n",
            "Selecting previously unselected package libqt5sql5:amd64.\n",
            "Preparing to unpack .../40-libqt5sql5_5.15.3+dfsg-2ubuntu0.2_amd64.deb ...\n",
            "Unpacking libqt5sql5:amd64 (5.15.3+dfsg-2ubuntu0.2) ...\n",
            "Selecting previously unselected package libqt5help5:amd64.\n",
            "Preparing to unpack .../41-libqt5help5_5.15.3-1_amd64.deb ...\n",
            "Unpacking libqt5help5:amd64 (5.15.3-1) ...\n",
            "Selecting previously unselected package libqt5printsupport5:amd64.\n",
            "Preparing to unpack .../42-libqt5printsupport5_5.15.3+dfsg-2ubuntu0.2_amd64.deb ...\n",
            "Unpacking libqt5printsupport5:amd64 (5.15.3+dfsg-2ubuntu0.2) ...\n",
            "Selecting previously unselected package libqt5sql5-sqlite:amd64.\n",
            "Preparing to unpack .../43-libqt5sql5-sqlite_5.15.3+dfsg-2ubuntu0.2_amd64.deb ...\n",
            "Unpacking libqt5sql5-sqlite:amd64 (5.15.3+dfsg-2ubuntu0.2) ...\n",
            "Selecting previously unselected package libqt5xmlpatterns5:amd64.\n",
            "Preparing to unpack .../44-libqt5xmlpatterns5_5.15.3-1_amd64.deb ...\n",
            "Unpacking libqt5xmlpatterns5:amd64 (5.15.3-1) ...\n",
            "Selecting previously unselected package libwacom-bin.\n",
            "Preparing to unpack .../45-libwacom-bin_2.2.0-1_amd64.deb ...\n",
            "Unpacking libwacom-bin (2.2.0-1) ...\n",
            "Selecting previously unselected package musescore-general-soundfont-small.\n",
            "Preparing to unpack .../46-musescore-general-soundfont-small_0.2.1-1_all.deb ...\n",
            "Unpacking musescore-general-soundfont-small (0.2.1-1) ...\n",
            "Selecting previously unselected package qml-module-qt-labs-folderlistmodel:amd64.\n",
            "Preparing to unpack .../47-qml-module-qt-labs-folderlistmodel_5.15.3+dfsg-1_amd64.deb ...\n",
            "Unpacking qml-module-qt-labs-folderlistmodel:amd64 (5.15.3+dfsg-1) ...\n",
            "Selecting previously unselected package qml-module-qt-labs-settings:amd64.\n",
            "Preparing to unpack .../48-qml-module-qt-labs-settings_5.15.3+dfsg-1_amd64.deb ...\n",
            "Unpacking qml-module-qt-labs-settings:amd64 (5.15.3+dfsg-1) ...\n",
            "Selecting previously unselected package qml-module-qtquick-privatewidgets:amd64.\n",
            "Preparing to unpack .../49-qml-module-qtquick-privatewidgets_5.15.3-1_amd64.deb ...\n",
            "Unpacking qml-module-qtquick-privatewidgets:amd64 (5.15.3-1) ...\n",
            "Selecting previously unselected package qml-module-qtquick-dialogs:amd64.\n",
            "Preparing to unpack .../50-qml-module-qtquick-dialogs_5.15.3-1_amd64.deb ...\n",
            "Unpacking qml-module-qtquick-dialogs:amd64 (5.15.3-1) ...\n",
            "Selecting previously unselected package musescore3-common.\n",
            "Preparing to unpack .../51-musescore3-common_3.2.3+dfsg2-16~ppa2204+1_all.deb ...\n",
            "Unpacking musescore3-common (3.2.3+dfsg2-16~ppa2204+1) ...\n",
            "Selecting previously unselected package musescore3.\n",
            "Preparing to unpack .../52-musescore3_3.2.3+dfsg2-16~ppa2204+1_amd64.deb ...\n",
            "Unpacking musescore3 (3.2.3+dfsg2-16~ppa2204+1) ...\n",
            "Selecting previously unselected package qt5-gtk-platformtheme:amd64.\n",
            "Preparing to unpack .../53-qt5-gtk-platformtheme_5.15.3+dfsg-2ubuntu0.2_amd64.deb ...\n",
            "Unpacking qt5-gtk-platformtheme:amd64 (5.15.3+dfsg-2ubuntu0.2) ...\n",
            "Selecting previously unselected package qttranslations5-l10n.\n",
            "Preparing to unpack .../54-qttranslations5-l10n_5.15.3-1_all.deb ...\n",
            "Unpacking qttranslations5-l10n (5.15.3-1) ...\n",
            "Setting up libportaudio2:amd64 (19.6.0-1.1) ...\n",
            "Setting up desktop-file-utils (0.26-1ubuntu3) ...\n",
            "Setting up libxcb-xinput0:amd64 (1.14-3ubuntu3) ...\n",
            "Setting up libxcb-keysyms1:amd64 (0.4.0-1build3) ...\n",
            "Setting up fonts-freefont-ttf (20120503-10build1) ...\n",
            "Setting up libxcb-render-util0:amd64 (0.3.9-1build3) ...\n",
            "Setting up libxcb-icccm4:amd64 (0.4.1-1.1build2) ...\n",
            "Setting up musescore-general-soundfont-small (0.2.1-1) ...\n",
            "update-alternatives: using /usr/share/sounds/sf3/MuseScore_General_Lite.sf3 to provide /usr/share/sounds/sf3/default-GM.sf3 (default-GM.sf3) in auto mode\n",
            "update-alternatives: using /usr/share/sounds/sf3/MuseScore_General_Lite.sf3 to provide /usr/share/sounds/sf3/MuseScore_General.sf3 (MuseScore_General.sf3) in auto mode\n",
            "Setting up libxcb-util1:amd64 (0.4.0-1build2) ...\n",
            "Setting up libxcb-xkb1:amd64 (1.14-3ubuntu3) ...\n",
            "Setting up libxcb-image0:amd64 (0.4.0-2) ...\n",
            "Setting up libxcb-xinerama0:amd64 (1.14-3ubuntu3) ...\n",
            "Setting up qttranslations5-l10n (5.15.3-1) ...\n",
            "Setting up libportmidi0:amd64 (1:217-6) ...\n",
            "Setting up libxkbcommon-x11-0:amd64 (1.4.0-1) ...\n",
            "Setting up libqt5core5a:amd64 (5.15.3+dfsg-2ubuntu0.2) ...\n",
            "Setting up libmtdev1:amd64 (1.1.6-1build4) ...\n",
            "Setting up libqt5dbus5:amd64 (5.15.3+dfsg-2ubuntu0.2) ...\n",
            "Setting up libmd4c0:amd64 (0.4.8-1) ...\n",
            "Setting up libevdev2:amd64 (1.12.1+dfsg-1) ...\n",
            "Setting up libgudev-1.0-0:amd64 (1:237-2build1) ...\n",
            "Setting up libwacom-common (2.2.0-1) ...\n",
            "Setting up libwacom9:amd64 (2.2.0-1) ...\n",
            "Setting up musescore3-common (3.2.3+dfsg2-16~ppa2204+1) ...\n",
            "Setting up libqt5network5:amd64 (5.15.3+dfsg-2ubuntu0.2) ...\n",
            "Setting up libinput-bin (1.20.0-1ubuntu0.3) ...\n",
            "Setting up libqt5sql5:amd64 (5.15.3+dfsg-2ubuntu0.2) ...\n",
            "Setting up libqt5xml5:amd64 (5.15.3+dfsg-2ubuntu0.2) ...\n",
            "Setting up libqt5qml5:amd64 (5.15.3+dfsg-1) ...\n",
            "Setting up libwacom-bin (2.2.0-1) ...\n",
            "Setting up libinput10:amd64 (1.20.0-1ubuntu0.3) ...\n",
            "Setting up libqt5qmlmodels5:amd64 (5.15.3+dfsg-1) ...\n",
            "Setting up libqt5sql5-sqlite:amd64 (5.15.3+dfsg-2ubuntu0.2) ...\n",
            "Setting up qml-module-qtqml:amd64 (5.15.3+dfsg-1) ...\n",
            "Setting up libqt5xmlpatterns5:amd64 (5.15.3-1) ...\n",
            "Setting up libqt5gui5:amd64 (5.15.3+dfsg-2ubuntu0.2) ...\n",
            "Setting up libqt5widgets5:amd64 (5.15.3+dfsg-2ubuntu0.2) ...\n",
            "Setting up libqt5help5:amd64 (5.15.3-1) ...\n",
            "Setting up qt5-gtk-platformtheme:amd64 (5.15.3+dfsg-2ubuntu0.2) ...\n",
            "Setting up qml-module-qt-labs-folderlistmodel:amd64 (5.15.3+dfsg-1) ...\n",
            "Setting up libqt5qmlworkerscript5:amd64 (5.15.3+dfsg-1) ...\n",
            "Setting up qml-module-qt-labs-settings:amd64 (5.15.3+dfsg-1) ...\n",
            "Setting up libqt5printsupport5:amd64 (5.15.3+dfsg-2ubuntu0.2) ...\n",
            "Setting up qml-module-qtqml-models2:amd64 (5.15.3+dfsg-1) ...\n",
            "Setting up libqt5quick5:amd64 (5.15.3+dfsg-1) ...\n",
            "Setting up libpoppler-qt5-1:amd64 (22.02.0-2ubuntu0.3) ...\n",
            "Setting up libqt5svg5:amd64 (5.15.3-1) ...\n",
            "Setting up qml-module-qtquick-window2:amd64 (5.15.3+dfsg-1) ...\n",
            "Setting up qml-module-qtquick-layouts:amd64 (5.15.3+dfsg-1) ...\n",
            "Setting up qml-module-qtquick2:amd64 (5.15.3+dfsg-1) ...\n",
            "Setting up qml-module-qtquick-privatewidgets:amd64 (5.15.3-1) ...\n",
            "Setting up qml-module-qtgraphicaleffects:amd64 (5.15.3-1) ...\n",
            "Setting up qml-module-qtquick-dialogs:amd64 (5.15.3-1) ...\n",
            "Setting up qml-module-qtquick-controls:amd64 (5.15.3-1) ...\n",
            "Setting up musescore3 (3.2.3+dfsg2-16~ppa2204+1) ...\n",
            "Processing triggers for man-db (2.10.2-1) ...\n",
            "Processing triggers for shared-mime-info (2.1-2) ...\n",
            "Processing triggers for fontconfig (2.13.1-4.2ubuntu5) ...\n",
            "Processing triggers for hicolor-icon-theme (0.17-2) ...\n",
            "Processing triggers for libc-bin (2.35-0ubuntu3.4) ...\n",
            "/sbin/ldconfig.real: /usr/local/lib/libtbbmalloc.so.2 is not a symbolic link\n",
            "\n",
            "/sbin/ldconfig.real: /usr/local/lib/libtbbbind.so.3 is not a symbolic link\n",
            "\n",
            "/sbin/ldconfig.real: /usr/local/lib/libtbbbind_2_0.so.3 is not a symbolic link\n",
            "\n",
            "/sbin/ldconfig.real: /usr/local/lib/libtbb.so.12 is not a symbolic link\n",
            "\n",
            "/sbin/ldconfig.real: /usr/local/lib/libtbbmalloc_proxy.so.2 is not a symbolic link\n",
            "\n",
            "/sbin/ldconfig.real: /usr/local/lib/libtbbbind_2_5.so.3 is not a symbolic link\n",
            "\n",
            "MuseScore installation finished\n",
            "Found existing installation: music21 9.1.0\n",
            "Uninstalling music21-9.1.0:\n",
            "  Would remove:\n",
            "    /usr/local/lib/python3.10/dist-packages/music21-9.1.0.dist-info/*\n",
            "    /usr/local/lib/python3.10/dist-packages/music21/*\n",
            "Proceed (Y/n)? Y\n",
            "  Successfully uninstalled music21-9.1.0\n",
            "Y\n",
            "Collecting music21\n",
            "  Downloading music21-9.1.0-py3-none-any.whl (22.8 MB)\n",
            "\u001b[2K     \u001b[90m━━━━━━━━━━━━━━━━━━━━━━━━━━━━━━━━━━━━━━━━\u001b[0m \u001b[32m22.8/22.8 MB\u001b[0m \u001b[31m40.9 MB/s\u001b[0m eta \u001b[36m0:00:00\u001b[0m\n",
            "\u001b[?25hRequirement already satisfied: chardet in /usr/local/lib/python3.10/dist-packages (from music21) (5.2.0)\n",
            "Requirement already satisfied: joblib in /usr/local/lib/python3.10/dist-packages (from music21) (1.3.2)\n",
            "Requirement already satisfied: jsonpickle in /usr/local/lib/python3.10/dist-packages (from music21) (3.0.2)\n",
            "Requirement already satisfied: matplotlib in /usr/local/lib/python3.10/dist-packages (from music21) (3.7.1)\n",
            "Requirement already satisfied: more-itertools in /usr/local/lib/python3.10/dist-packages (from music21) (10.1.0)\n",
            "Requirement already satisfied: numpy in /usr/local/lib/python3.10/dist-packages (from music21) (1.23.5)\n",
            "Requirement already satisfied: requests in /usr/local/lib/python3.10/dist-packages (from music21) (2.31.0)\n",
            "Requirement already satisfied: webcolors>=1.5 in /usr/local/lib/python3.10/dist-packages (from music21) (1.13)\n",
            "Requirement already satisfied: contourpy>=1.0.1 in /usr/local/lib/python3.10/dist-packages (from matplotlib->music21) (1.2.0)\n",
            "Requirement already satisfied: cycler>=0.10 in /usr/local/lib/python3.10/dist-packages (from matplotlib->music21) (0.12.1)\n",
            "Requirement already satisfied: fonttools>=4.22.0 in /usr/local/lib/python3.10/dist-packages (from matplotlib->music21) (4.48.1)\n",
            "Requirement already satisfied: kiwisolver>=1.0.1 in /usr/local/lib/python3.10/dist-packages (from matplotlib->music21) (1.4.5)\n",
            "Requirement already satisfied: packaging>=20.0 in /usr/local/lib/python3.10/dist-packages (from matplotlib->music21) (23.2)\n",
            "Requirement already satisfied: pillow>=6.2.0 in /usr/local/lib/python3.10/dist-packages (from matplotlib->music21) (9.4.0)\n",
            "Requirement already satisfied: pyparsing>=2.3.1 in /usr/local/lib/python3.10/dist-packages (from matplotlib->music21) (3.1.1)\n",
            "Requirement already satisfied: python-dateutil>=2.7 in /usr/local/lib/python3.10/dist-packages (from matplotlib->music21) (2.8.2)\n",
            "Requirement already satisfied: charset-normalizer<4,>=2 in /usr/local/lib/python3.10/dist-packages (from requests->music21) (3.3.2)\n",
            "Requirement already satisfied: idna<4,>=2.5 in /usr/local/lib/python3.10/dist-packages (from requests->music21) (3.6)\n",
            "Requirement already satisfied: urllib3<3,>=1.21.1 in /usr/local/lib/python3.10/dist-packages (from requests->music21) (2.0.7)\n",
            "Requirement already satisfied: certifi>=2017.4.17 in /usr/local/lib/python3.10/dist-packages (from requests->music21) (2024.2.2)\n",
            "Requirement already satisfied: six>=1.5 in /usr/local/lib/python3.10/dist-packages (from python-dateutil>=2.7->matplotlib->music21) (1.16.0)\n",
            "Installing collected packages: music21\n",
            "Successfully installed music21-9.1.0\n"
          ]
        }
      ]
    },
    {
      "cell_type": "code",
      "source": [
        "# enables music21 to render images of musical notes\n",
        "print('installing lilypond...')\n",
        "!apt-get install lilypond > /dev/null\n",
        "\n",
        "!lilypond --version"
      ],
      "metadata": {
        "colab": {
          "base_uri": "https://localhost:8080/"
        },
        "id": "mvmCwrSfLikg",
        "outputId": "57e5ce06-15f4-4db6-acbc-b79864e0b7d3"
      },
      "execution_count": 3,
      "outputs": [
        {
          "output_type": "stream",
          "name": "stdout",
          "text": [
            "installing lilypond...\n",
            "Extracting templates from packages: 100%\n",
            "GNU LilyPond 2.22.1\n",
            "\n",
            "Copyright (c) 1996--2021 by\n",
            "  Han-Wen Nienhuys <hanwen@xs4all.nl>\n",
            "  Jan Nieuwenhuizen <janneke@gnu.org>\n",
            "  and others.\n",
            "\n",
            "This program is free software.  It is covered by the GNU General Public\n",
            "License and you are welcome to change it and/or distribute copies of it\n",
            "under certain conditions.  Invoke as `lilypond --warranty' for more\n",
            "information.\n",
            "\n"
          ]
        }
      ]
    },
    {
      "cell_type": "code",
      "source": [
        "from google.colab import drive\n",
        "\n",
        "drive.mount('/content/gdrive/', force_remount=True)"
      ],
      "metadata": {
        "colab": {
          "base_uri": "https://localhost:8080/"
        },
        "id": "6x8F9njDLwl0",
        "outputId": "f6cd9bb5-2996-4310-fe0b-583d49480dbb"
      },
      "execution_count": 4,
      "outputs": [
        {
          "output_type": "stream",
          "name": "stdout",
          "text": [
            "Mounted at /content/gdrive/\n"
          ]
        }
      ]
    },
    {
      "cell_type": "code",
      "source": [
        "os.chdir(\"./gdrive/MyDrive/Ritm\")"
      ],
      "metadata": {
        "id": "awDJHfxoQnLp"
      },
      "execution_count": 5,
      "outputs": []
    },
    {
      "cell_type": "code",
      "source": [
        "!pip install FPDF\n",
        "from fpdf import FPDF"
      ],
      "metadata": {
        "colab": {
          "base_uri": "https://localhost:8080/"
        },
        "id": "wJeM94HOLzmb",
        "outputId": "eccc9ee3-1659-4f48-c746-ab92172e6525"
      },
      "execution_count": 6,
      "outputs": [
        {
          "output_type": "stream",
          "name": "stdout",
          "text": [
            "Collecting FPDF\n",
            "  Downloading fpdf-1.7.2.tar.gz (39 kB)\n",
            "  Preparing metadata (setup.py) ... \u001b[?25l\u001b[?25hdone\n",
            "Building wheels for collected packages: FPDF\n",
            "  Building wheel for FPDF (setup.py) ... \u001b[?25l\u001b[?25hdone\n",
            "  Created wheel for FPDF: filename=fpdf-1.7.2-py2.py3-none-any.whl size=40703 sha256=3d0c09cda518331d4ba1cd8ce91903c93a7a48c073a6dcd212142aa4bd253220\n",
            "  Stored in directory: /root/.cache/pip/wheels/f9/95/ba/f418094659025eb9611f17cbcaf2334236bf39a0c3453ea455\n",
            "Successfully built FPDF\n",
            "Installing collected packages: FPDF\n",
            "Successfully installed FPDF-1.7.2\n"
          ]
        }
      ]
    },
    {
      "cell_type": "code",
      "source": [
        "# displayin çalışıp çalışmadığını görmek için test kodu\n",
        "print(\"Option1 - using Musescore\\n\")\n",
        "c = chord.Chord(\"C4 E4 G4\")\n",
        "c.show()\n",
        "\n",
        "print(\"\\nOption2 - Using LilyPond\")\n",
        "c.write('lily.png')\n",
        "filename=c.write('lily.png')\n",
        "Image(filename)"
      ],
      "metadata": {
        "colab": {
          "base_uri": "https://localhost:8080/",
          "height": 213
        },
        "id": "C-OIXeLkL3OL",
        "outputId": "fa3bce23-8fb0-42d2-e4bf-26d5d31300f8"
      },
      "execution_count": 7,
      "outputs": [
        {
          "output_type": "stream",
          "name": "stdout",
          "text": [
            "Option1 - using Musescore\n",
            "\n"
          ]
        },
        {
          "output_type": "display_data",
          "data": {
            "image/png": "[encoded data removed]",
            "text/plain": [
              "<IPython.core.display.Image object>"
            ]
          },
          "metadata": {
            "image/png": {
              "width": 149,
              "height": 50
            }
          }
        },
        {
          "output_type": "stream",
          "name": "stdout",
          "text": [
            "\n",
            "Option2 - Using LilyPond\n"
          ]
        },
        {
          "output_type": "execute_result",
          "data": {
            "image/png": "[encoded data removed]",
            "text/plain": [
              "<IPython.core.display.Image object>"
            ]
          },
          "metadata": {},
          "execution_count": 7
        }
      ]
    },
    {
      "cell_type": "code",
      "source": [
        "level_1A_t = np.array([['Level1A', 1 , 0 , 0] , ['Level1A',1, 0, 1] , ['Level1A',1 ,1 ,1] ])\n",
        "df_triplet_1A = pd.DataFrame(level_1A_t, columns = ['Level' , 'Triplet-1','Triplet-2','Triplet-3'], index = ['T1', 'T2', 'T3'])\n",
        "df_triplet_1A['Cell'] = df_triplet_1A.index\n",
        "df_triplet_1A['Triplet-1'] = df_triplet_1A['Triplet-1'].astype(int)\n",
        "df_triplet_1A['Triplet-2'] = df_triplet_1A['Triplet-2'].astype(int)\n",
        "df_triplet_1A['Triplet-3'] = df_triplet_1A['Triplet-3'].astype(int)\n",
        "df_triplet_1A['Q'] = df_triplet_1A['Triplet-1']+ df_triplet_1A['Triplet-2'] + df_triplet_1A['Triplet-3']\n",
        "df_triplet_1A['WNBD'] = [0 , 3 ,6]\n",
        "df_triplet_1A['Pressing'] = [\"\" , \"\" , \"\"]\n",
        "df_triplet_1A"
      ],
      "metadata": {
        "colab": {
          "base_uri": "https://localhost:8080/",
          "height": 143
        },
        "id": "wF30WHqgK1Dc",
        "outputId": "15ca61e8-2fc5-4993-88aa-82b2de78759b"
      },
      "execution_count": 8,
      "outputs": [
        {
          "output_type": "execute_result",
          "data": {
            "text/plain": [
              "      Level  Triplet-1  Triplet-2  Triplet-3 Cell  Q  WNBD Pressing\n",
              "T1  Level1A          1          0          0   T1  1     0         \n",
              "T2  Level1A          1          0          1   T2  2     3         \n",
              "T3  Level1A          1          1          1   T3  3     6         "
            ],
            "text/html": [
              "\n",
              "  <div id=\"df-26e69b65-7a2d-4ec0-a219-a203c90bae12\" class=\"colab-df-container\">\n",
              "    <div>\n",
              "<style scoped>\n",
              "    .dataframe tbody tr th:only-of-type {\n",
              "        vertical-align: middle;\n",
              "    }\n",
              "\n",
              "    .dataframe tbody tr th {\n",
              "        vertical-align: top;\n",
              "    }\n",
              "\n",
              "    .dataframe thead th {\n",
              "        text-align: right;\n",
              "    }\n",
              "</style>\n",
              "<table border=\"1\" class=\"dataframe\">\n",
              "  <thead>\n",
              "    <tr style=\"text-align: right;\">\n",
              "      <th></th>\n",
              "      <th>Level</th>\n",
              "      <th>Triplet-1</th>\n",
              "      <th>Triplet-2</th>\n",
              "      <th>Triplet-3</th>\n",
              "      <th>Cell</th>\n",
              "      <th>Q</th>\n",
              "      <th>WNBD</th>\n",
              "      <th>Pressing</th>\n",
              "    </tr>\n",
              "  </thead>\n",
              "  <tbody>\n",
              "    <tr>\n",
              "      <th>T1</th>\n",
              "      <td>Level1A</td>\n",
              "      <td>1</td>\n",
              "      <td>0</td>\n",
              "      <td>0</td>\n",
              "      <td>T1</td>\n",
              "      <td>1</td>\n",
              "      <td>0</td>\n",
              "      <td></td>\n",
              "    </tr>\n",
              "    <tr>\n",
              "      <th>T2</th>\n",
              "      <td>Level1A</td>\n",
              "      <td>1</td>\n",
              "      <td>0</td>\n",
              "      <td>1</td>\n",
              "      <td>T2</td>\n",
              "      <td>2</td>\n",
              "      <td>3</td>\n",
              "      <td></td>\n",
              "    </tr>\n",
              "    <tr>\n",
              "      <th>T3</th>\n",
              "      <td>Level1A</td>\n",
              "      <td>1</td>\n",
              "      <td>1</td>\n",
              "      <td>1</td>\n",
              "      <td>T3</td>\n",
              "      <td>3</td>\n",
              "      <td>6</td>\n",
              "      <td></td>\n",
              "    </tr>\n",
              "  </tbody>\n",
              "</table>\n",
              "</div>\n",
              "    <div class=\"colab-df-buttons\">\n",
              "\n",
              "  <div class=\"colab-df-container\">\n",
              "    <button class=\"colab-df-convert\" onclick=\"convertToInteractive('df-26e69b65-7a2d-4ec0-a219-a203c90bae12')\"\n",
              "            title=\"Convert this dataframe to an interactive table.\"\n",
              "            style=\"display:none;\">\n",
              "\n",
              "  <svg xmlns=\"http://www.w3.org/2000/svg\" height=\"24px\" viewBox=\"0 -960 960 960\">\n",
              "    <path d=\"M120-120v-720h720v720H120Zm60-500h600v-160H180v160Zm220 220h160v-160H400v160Zm0 220h160v-160H400v160ZM180-400h160v-160H180v160Zm440 0h160v-160H620v160ZM180-180h160v-160H180v160Zm440 0h160v-160H620v160Z\"/>\n",
              "  </svg>\n",
              "    </button>\n",
              "\n",
              "  <style>\n",
              "    .colab-df-container {\n",
              "      display:flex;\n",
              "      gap: 12px;\n",
              "    }\n",
              "\n",
              "    .colab-df-convert {\n",
              "      background-color: #E8F0FE;\n",
              "      border: none;\n",
              "      border-radius: 50%;\n",
              "      cursor: pointer;\n",
              "      display: none;\n",
              "      fill: #1967D2;\n",
              "      height: 32px;\n",
              "      padding: 0 0 0 0;\n",
              "      width: 32px;\n",
              "    }\n",
              "\n",
              "    .colab-df-convert:hover {\n",
              "      background-color: #E2EBFA;\n",
              "      box-shadow: 0px 1px 2px rgba(60, 64, 67, 0.3), 0px 1px 3px 1px rgba(60, 64, 67, 0.15);\n",
              "      fill: #174EA6;\n",
              "    }\n",
              "\n",
              "    .colab-df-buttons div {\n",
              "      margin-bottom: 4px;\n",
              "    }\n",
              "\n",
              "    [theme=dark] .colab-df-convert {\n",
              "      background-color: #3B4455;\n",
              "      fill: #D2E3FC;\n",
              "    }\n",
              "\n",
              "    [theme=dark] .colab-df-convert:hover {\n",
              "      background-color: #434B5C;\n",
              "      box-shadow: 0px 1px 3px 1px rgba(0, 0, 0, 0.15);\n",
              "      filter: drop-shadow(0px 1px 2px rgba(0, 0, 0, 0.3));\n",
              "      fill: #FFFFFF;\n",
              "    }\n",
              "  </style>\n",
              "\n",
              "    <script>\n",
              "      const buttonEl =\n",
              "        document.querySelector('#df-26e69b65-7a2d-4ec0-a219-a203c90bae12 button.colab-df-convert');\n",
              "      buttonEl.style.display =\n",
              "        google.colab.kernel.accessAllowed ? 'block' : 'none';\n",
              "\n",
              "      async function convertToInteractive(key) {\n",
              "        const element = document.querySelector('#df-26e69b65-7a2d-4ec0-a219-a203c90bae12');\n",
              "        const dataTable =\n",
              "          await google.colab.kernel.invokeFunction('convertToInteractive',\n",
              "                                                    [key], {});\n",
              "        if (!dataTable) return;\n",
              "\n",
              "        const docLinkHtml = 'Like what you see? Visit the ' +\n",
              "          '<a target=\"_blank\" href=https://colab.research.google.com/notebooks/data_table.ipynb>data table notebook</a>'\n",
              "          + ' to learn more about interactive tables.';\n",
              "        element.innerHTML = '';\n",
              "        dataTable['output_type'] = 'display_data';\n",
              "        await google.colab.output.renderOutput(dataTable, element);\n",
              "        const docLink = document.createElement('div');\n",
              "        docLink.innerHTML = docLinkHtml;\n",
              "        element.appendChild(docLink);\n",
              "      }\n",
              "    </script>\n",
              "  </div>\n",
              "\n",
              "\n",
              "<div id=\"df-3dbcef4c-704e-484b-8a7e-c1100c3d7ae7\">\n",
              "  <button class=\"colab-df-quickchart\" onclick=\"quickchart('df-3dbcef4c-704e-484b-8a7e-c1100c3d7ae7')\"\n",
              "            title=\"Suggest charts\"\n",
              "            style=\"display:none;\">\n",
              "\n",
              "<svg xmlns=\"http://www.w3.org/2000/svg\" height=\"24px\"viewBox=\"0 0 24 24\"\n",
              "     width=\"24px\">\n",
              "    <g>\n",
              "        <path d=\"M19 3H5c-1.1 0-2 .9-2 2v14c0 1.1.9 2 2 2h14c1.1 0 2-.9 2-2V5c0-1.1-.9-2-2-2zM9 17H7v-7h2v7zm4 0h-2V7h2v10zm4 0h-2v-4h2v4z\"/>\n",
              "    </g>\n",
              "</svg>\n",
              "  </button>\n",
              "\n",
              "<style>\n",
              "  .colab-df-quickchart {\n",
              "      --bg-color: #E8F0FE;\n",
              "      --fill-color: #1967D2;\n",
              "      --hover-bg-color: #E2EBFA;\n",
              "      --hover-fill-color: #174EA6;\n",
              "      --disabled-fill-color: #AAA;\n",
              "      --disabled-bg-color: #DDD;\n",
              "  }\n",
              "\n",
              "  [theme=dark] .colab-df-quickchart {\n",
              "      --bg-color: #3B4455;\n",
              "      --fill-color: #D2E3FC;\n",
              "      --hover-bg-color: #434B5C;\n",
              "      --hover-fill-color: #FFFFFF;\n",
              "      --disabled-bg-color: #3B4455;\n",
              "      --disabled-fill-color: #666;\n",
              "  }\n",
              "\n",
              "  .colab-df-quickchart {\n",
              "    background-color: var(--bg-color);\n",
              "    border: none;\n",
              "    border-radius: 50%;\n",
              "    cursor: pointer;\n",
              "    display: none;\n",
              "    fill: var(--fill-color);\n",
              "    height: 32px;\n",
              "    padding: 0;\n",
              "    width: 32px;\n",
              "  }\n",
              "\n",
              "  .colab-df-quickchart:hover {\n",
              "    background-color: var(--hover-bg-color);\n",
              "    box-shadow: 0 1px 2px rgba(60, 64, 67, 0.3), 0 1px 3px 1px rgba(60, 64, 67, 0.15);\n",
              "    fill: var(--button-hover-fill-color);\n",
              "  }\n",
              "\n",
              "  .colab-df-quickchart-complete:disabled,\n",
              "  .colab-df-quickchart-complete:disabled:hover {\n",
              "    background-color: var(--disabled-bg-color);\n",
              "    fill: var(--disabled-fill-color);\n",
              "    box-shadow: none;\n",
              "  }\n",
              "\n",
              "  .colab-df-spinner {\n",
              "    border: 2px solid var(--fill-color);\n",
              "    border-color: transparent;\n",
              "    border-bottom-color: var(--fill-color);\n",
              "    animation:\n",
              "      spin 1s steps(1) infinite;\n",
              "  }\n",
              "\n",
              "  @keyframes spin {\n",
              "    0% {\n",
              "      border-color: transparent;\n",
              "      border-bottom-color: var(--fill-color);\n",
              "      border-left-color: var(--fill-color);\n",
              "    }\n",
              "    20% {\n",
              "      border-color: transparent;\n",
              "      border-left-color: var(--fill-color);\n",
              "      border-top-color: var(--fill-color);\n",
              "    }\n",
              "    30% {\n",
              "      border-color: transparent;\n",
              "      border-left-color: var(--fill-color);\n",
              "      border-top-color: var(--fill-color);\n",
              "      border-right-color: var(--fill-color);\n",
              "    }\n",
              "    40% {\n",
              "      border-color: transparent;\n",
              "      border-right-color: var(--fill-color);\n",
              "      border-top-color: var(--fill-color);\n",
              "    }\n",
              "    60% {\n",
              "      border-color: transparent;\n",
              "      border-right-color: var(--fill-color);\n",
              "    }\n",
              "    80% {\n",
              "      border-color: transparent;\n",
              "      border-right-color: var(--fill-color);\n",
              "      border-bottom-color: var(--fill-color);\n",
              "    }\n",
              "    90% {\n",
              "      border-color: transparent;\n",
              "      border-bottom-color: var(--fill-color);\n",
              "    }\n",
              "  }\n",
              "</style>\n",
              "\n",
              "  <script>\n",
              "    async function quickchart(key) {\n",
              "      const quickchartButtonEl =\n",
              "        document.querySelector('#' + key + ' button');\n",
              "      quickchartButtonEl.disabled = true;  // To prevent multiple clicks.\n",
              "      quickchartButtonEl.classList.add('colab-df-spinner');\n",
              "      try {\n",
              "        const charts = await google.colab.kernel.invokeFunction(\n",
              "            'suggestCharts', [key], {});\n",
              "      } catch (error) {\n",
              "        console.error('Error during call to suggestCharts:', error);\n",
              "      }\n",
              "      quickchartButtonEl.classList.remove('colab-df-spinner');\n",
              "      quickchartButtonEl.classList.add('colab-df-quickchart-complete');\n",
              "    }\n",
              "    (() => {\n",
              "      let quickchartButtonEl =\n",
              "        document.querySelector('#df-3dbcef4c-704e-484b-8a7e-c1100c3d7ae7 button');\n",
              "      quickchartButtonEl.style.display =\n",
              "        google.colab.kernel.accessAllowed ? 'block' : 'none';\n",
              "    })();\n",
              "  </script>\n",
              "</div>\n",
              "\n",
              "  <div id=\"id_b2d30289-1de4-4dc8-a31e-783139dd149e\">\n",
              "    <style>\n",
              "      .colab-df-generate {\n",
              "        background-color: #E8F0FE;\n",
              "        border: none;\n",
              "        border-radius: 50%;\n",
              "        cursor: pointer;\n",
              "        display: none;\n",
              "        fill: #1967D2;\n",
              "        height: 32px;\n",
              "        padding: 0 0 0 0;\n",
              "        width: 32px;\n",
              "      }\n",
              "\n",
              "      .colab-df-generate:hover {\n",
              "        background-color: #E2EBFA;\n",
              "        box-shadow: 0px 1px 2px rgba(60, 64, 67, 0.3), 0px 1px 3px 1px rgba(60, 64, 67, 0.15);\n",
              "        fill: #174EA6;\n",
              "      }\n",
              "\n",
              "      [theme=dark] .colab-df-generate {\n",
              "        background-color: #3B4455;\n",
              "        fill: #D2E3FC;\n",
              "      }\n",
              "\n",
              "      [theme=dark] .colab-df-generate:hover {\n",
              "        background-color: #434B5C;\n",
              "        box-shadow: 0px 1px 3px 1px rgba(0, 0, 0, 0.15);\n",
              "        filter: drop-shadow(0px 1px 2px rgba(0, 0, 0, 0.3));\n",
              "        fill: #FFFFFF;\n",
              "      }\n",
              "    </style>\n",
              "    <button class=\"colab-df-generate\" onclick=\"generateWithVariable('df_triplet_1A')\"\n",
              "            title=\"Generate code using this dataframe.\"\n",
              "            style=\"display:none;\">\n",
              "\n",
              "  <svg xmlns=\"http://www.w3.org/2000/svg\" height=\"24px\"viewBox=\"0 0 24 24\"\n",
              "       width=\"24px\">\n",
              "    <path d=\"M7,19H8.4L18.45,9,17,7.55,7,17.6ZM5,21V16.75L18.45,3.32a2,2,0,0,1,2.83,0l1.4,1.43a1.91,1.91,0,0,1,.58,1.4,1.91,1.91,0,0,1-.58,1.4L9.25,21ZM18.45,9,17,7.55Zm-12,3A5.31,5.31,0,0,0,4.9,8.1,5.31,5.31,0,0,0,1,6.5,5.31,5.31,0,0,0,4.9,4.9,5.31,5.31,0,0,0,6.5,1,5.31,5.31,0,0,0,8.1,4.9,5.31,5.31,0,0,0,12,6.5,5.46,5.46,0,0,0,6.5,12Z\"/>\n",
              "  </svg>\n",
              "    </button>\n",
              "    <script>\n",
              "      (() => {\n",
              "      const buttonEl =\n",
              "        document.querySelector('#id_b2d30289-1de4-4dc8-a31e-783139dd149e button.colab-df-generate');\n",
              "      buttonEl.style.display =\n",
              "        google.colab.kernel.accessAllowed ? 'block' : 'none';\n",
              "\n",
              "      buttonEl.onclick = () => {\n",
              "        google.colab.notebook.generateWithVariable('df_triplet_1A');\n",
              "      }\n",
              "      })();\n",
              "    </script>\n",
              "  </div>\n",
              "\n",
              "    </div>\n",
              "  </div>\n"
            ]
          },
          "metadata": {},
          "execution_count": 8
        }
      ]
    },
    {
      "cell_type": "code",
      "source": [
        "level_1B_f = np.array([['Level1B',1, 0 , 0 , 0 ] , ['Level1B',0, 0, 1 , 0], ['Level1B',1 ,0 ,1, 0],\n",
        "                      ['Level1B',1 ,0 ,1, 1] , ['Level1B',1 ,1 ,1, 0], ['Level1B',1 ,1 ,1, 1]])\n",
        "df_fourth_1B = pd.DataFrame(level_1B_f, columns = ['Level','Straight-1','Straight-2','Straight-3','Straight-4'],\n",
        "                           index = ['S1', 'S2', 'S3', 'S4' , 'S5', 'S6'])\n",
        "df_fourth_1B['Cell'] = df_fourth_1B.index\n",
        "df_fourth_1B['Straight-1'] = df_fourth_1B['Straight-1'].astype(int)\n",
        "df_fourth_1B['Straight-2'] = df_fourth_1B['Straight-2'].astype(int)\n",
        "df_fourth_1B['Straight-3'] = df_fourth_1B['Straight-3'].astype(int)\n",
        "df_fourth_1B['Straight-4'] = df_fourth_1B['Straight-4'].astype(int)\n",
        "df_fourth_1B['Q'] = df_fourth_1B['Straight-1']+df_fourth_1B['Straight-2']+df_fourth_1B['Straight-3']+df_fourth_1B['Straight-4']\n",
        "df_fourth_1B['WNBD'] = [0 , 2 , 2 , 6, 6 , 10 ]\n",
        "df_fourth_1B['Pressing'] = [0 , 5.5 ,1 , 5.5, 1 , 1]\n",
        "df_fourth_1B"
      ],
      "metadata": {
        "colab": {
          "base_uri": "https://localhost:8080/",
          "height": 237
        },
        "id": "hWazDw7GMHcb",
        "outputId": "7f68ba35-e455-4f1e-f604-2be90f2d4e10"
      },
      "execution_count": 9,
      "outputs": [
        {
          "output_type": "execute_result",
          "data": {
            "text/plain": [
              "      Level  Straight-1  Straight-2  Straight-3  Straight-4 Cell  Q  WNBD  \\\n",
              "S1  Level1B           1           0           0           0   S1  1     0   \n",
              "S2  Level1B           0           0           1           0   S2  1     2   \n",
              "S3  Level1B           1           0           1           0   S3  2     2   \n",
              "S4  Level1B           1           0           1           1   S4  3     6   \n",
              "S5  Level1B           1           1           1           0   S5  3     6   \n",
              "S6  Level1B           1           1           1           1   S6  4    10   \n",
              "\n",
              "    Pressing  \n",
              "S1       0.0  \n",
              "S2       5.5  \n",
              "S3       1.0  \n",
              "S4       5.5  \n",
              "S5       1.0  \n",
              "S6       1.0  "
            ],
            "text/html": [
              "\n",
              "  <div id=\"df-4f599c8a-a24f-4175-92f5-0287234322de\" class=\"colab-df-container\">\n",
              "    <div>\n",
              "<style scoped>\n",
              "    .dataframe tbody tr th:only-of-type {\n",
              "        vertical-align: middle;\n",
              "    }\n",
              "\n",
              "    .dataframe tbody tr th {\n",
              "        vertical-align: top;\n",
              "    }\n",
              "\n",
              "    .dataframe thead th {\n",
              "        text-align: right;\n",
              "    }\n",
              "</style>\n",
              "<table border=\"1\" class=\"dataframe\">\n",
              "  <thead>\n",
              "    <tr style=\"text-align: right;\">\n",
              "      <th></th>\n",
              "      <th>Level</th>\n",
              "      <th>Straight-1</th>\n",
              "      <th>Straight-2</th>\n",
              "      <th>Straight-3</th>\n",
              "      <th>Straight-4</th>\n",
              "      <th>Cell</th>\n",
              "      <th>Q</th>\n",
              "      <th>WNBD</th>\n",
              "      <th>Pressing</th>\n",
              "    </tr>\n",
              "  </thead>\n",
              "  <tbody>\n",
              "    <tr>\n",
              "      <th>S1</th>\n",
              "      <td>Level1B</td>\n",
              "      <td>1</td>\n",
              "      <td>0</td>\n",
              "      <td>0</td>\n",
              "      <td>0</td>\n",
              "      <td>S1</td>\n",
              "      <td>1</td>\n",
              "      <td>0</td>\n",
              "      <td>0.0</td>\n",
              "    </tr>\n",
              "    <tr>\n",
              "      <th>S2</th>\n",
              "      <td>Level1B</td>\n",
              "      <td>0</td>\n",
              "      <td>0</td>\n",
              "      <td>1</td>\n",
              "      <td>0</td>\n",
              "      <td>S2</td>\n",
              "      <td>1</td>\n",
              "      <td>2</td>\n",
              "      <td>5.5</td>\n",
              "    </tr>\n",
              "    <tr>\n",
              "      <th>S3</th>\n",
              "      <td>Level1B</td>\n",
              "      <td>1</td>\n",
              "      <td>0</td>\n",
              "      <td>1</td>\n",
              "      <td>0</td>\n",
              "      <td>S3</td>\n",
              "      <td>2</td>\n",
              "      <td>2</td>\n",
              "      <td>1.0</td>\n",
              "    </tr>\n",
              "    <tr>\n",
              "      <th>S4</th>\n",
              "      <td>Level1B</td>\n",
              "      <td>1</td>\n",
              "      <td>0</td>\n",
              "      <td>1</td>\n",
              "      <td>1</td>\n",
              "      <td>S4</td>\n",
              "      <td>3</td>\n",
              "      <td>6</td>\n",
              "      <td>5.5</td>\n",
              "    </tr>\n",
              "    <tr>\n",
              "      <th>S5</th>\n",
              "      <td>Level1B</td>\n",
              "      <td>1</td>\n",
              "      <td>1</td>\n",
              "      <td>1</td>\n",
              "      <td>0</td>\n",
              "      <td>S5</td>\n",
              "      <td>3</td>\n",
              "      <td>6</td>\n",
              "      <td>1.0</td>\n",
              "    </tr>\n",
              "    <tr>\n",
              "      <th>S6</th>\n",
              "      <td>Level1B</td>\n",
              "      <td>1</td>\n",
              "      <td>1</td>\n",
              "      <td>1</td>\n",
              "      <td>1</td>\n",
              "      <td>S6</td>\n",
              "      <td>4</td>\n",
              "      <td>10</td>\n",
              "      <td>1.0</td>\n",
              "    </tr>\n",
              "  </tbody>\n",
              "</table>\n",
              "</div>\n",
              "    <div class=\"colab-df-buttons\">\n",
              "\n",
              "  <div class=\"colab-df-container\">\n",
              "    <button class=\"colab-df-convert\" onclick=\"convertToInteractive('df-4f599c8a-a24f-4175-92f5-0287234322de')\"\n",
              "            title=\"Convert this dataframe to an interactive table.\"\n",
              "            style=\"display:none;\">\n",
              "\n",
              "  <svg xmlns=\"http://www.w3.org/2000/svg\" height=\"24px\" viewBox=\"0 -960 960 960\">\n",
              "    <path d=\"M120-120v-720h720v720H120Zm60-500h600v-160H180v160Zm220 220h160v-160H400v160Zm0 220h160v-160H400v160ZM180-400h160v-160H180v160Zm440 0h160v-160H620v160ZM180-180h160v-160H180v160Zm440 0h160v-160H620v160Z\"/>\n",
              "  </svg>\n",
              "    </button>\n",
              "\n",
              "  <style>\n",
              "    .colab-df-container {\n",
              "      display:flex;\n",
              "      gap: 12px;\n",
              "    }\n",
              "\n",
              "    .colab-df-convert {\n",
              "      background-color: #E8F0FE;\n",
              "      border: none;\n",
              "      border-radius: 50%;\n",
              "      cursor: pointer;\n",
              "      display: none;\n",
              "      fill: #1967D2;\n",
              "      height: 32px;\n",
              "      padding: 0 0 0 0;\n",
              "      width: 32px;\n",
              "    }\n",
              "\n",
              "    .colab-df-convert:hover {\n",
              "      background-color: #E2EBFA;\n",
              "      box-shadow: 0px 1px 2px rgba(60, 64, 67, 0.3), 0px 1px 3px 1px rgba(60, 64, 67, 0.15);\n",
              "      fill: #174EA6;\n",
              "    }\n",
              "\n",
              "    .colab-df-buttons div {\n",
              "      margin-bottom: 4px;\n",
              "    }\n",
              "\n",
              "    [theme=dark] .colab-df-convert {\n",
              "      background-color: #3B4455;\n",
              "      fill: #D2E3FC;\n",
              "    }\n",
              "\n",
              "    [theme=dark] .colab-df-convert:hover {\n",
              "      background-color: #434B5C;\n",
              "      box-shadow: 0px 1px 3px 1px rgba(0, 0, 0, 0.15);\n",
              "      filter: drop-shadow(0px 1px 2px rgba(0, 0, 0, 0.3));\n",
              "      fill: #FFFFFF;\n",
              "    }\n",
              "  </style>\n",
              "\n",
              "    <script>\n",
              "      const buttonEl =\n",
              "        document.querySelector('#df-4f599c8a-a24f-4175-92f5-0287234322de button.colab-df-convert');\n",
              "      buttonEl.style.display =\n",
              "        google.colab.kernel.accessAllowed ? 'block' : 'none';\n",
              "\n",
              "      async function convertToInteractive(key) {\n",
              "        const element = document.querySelector('#df-4f599c8a-a24f-4175-92f5-0287234322de');\n",
              "        const dataTable =\n",
              "          await google.colab.kernel.invokeFunction('convertToInteractive',\n",
              "                                                    [key], {});\n",
              "        if (!dataTable) return;\n",
              "\n",
              "        const docLinkHtml = 'Like what you see? Visit the ' +\n",
              "          '<a target=\"_blank\" href=https://colab.research.google.com/notebooks/data_table.ipynb>data table notebook</a>'\n",
              "          + ' to learn more about interactive tables.';\n",
              "        element.innerHTML = '';\n",
              "        dataTable['output_type'] = 'display_data';\n",
              "        await google.colab.output.renderOutput(dataTable, element);\n",
              "        const docLink = document.createElement('div');\n",
              "        docLink.innerHTML = docLinkHtml;\n",
              "        element.appendChild(docLink);\n",
              "      }\n",
              "    </script>\n",
              "  </div>\n",
              "\n",
              "\n",
              "<div id=\"df-7bc6edee-0e6f-4336-8e6f-d9b1a4084671\">\n",
              "  <button class=\"colab-df-quickchart\" onclick=\"quickchart('df-7bc6edee-0e6f-4336-8e6f-d9b1a4084671')\"\n",
              "            title=\"Suggest charts\"\n",
              "            style=\"display:none;\">\n",
              "\n",
              "<svg xmlns=\"http://www.w3.org/2000/svg\" height=\"24px\"viewBox=\"0 0 24 24\"\n",
              "     width=\"24px\">\n",
              "    <g>\n",
              "        <path d=\"M19 3H5c-1.1 0-2 .9-2 2v14c0 1.1.9 2 2 2h14c1.1 0 2-.9 2-2V5c0-1.1-.9-2-2-2zM9 17H7v-7h2v7zm4 0h-2V7h2v10zm4 0h-2v-4h2v4z\"/>\n",
              "    </g>\n",
              "</svg>\n",
              "  </button>\n",
              "\n",
              "<style>\n",
              "  .colab-df-quickchart {\n",
              "      --bg-color: #E8F0FE;\n",
              "      --fill-color: #1967D2;\n",
              "      --hover-bg-color: #E2EBFA;\n",
              "      --hover-fill-color: #174EA6;\n",
              "      --disabled-fill-color: #AAA;\n",
              "      --disabled-bg-color: #DDD;\n",
              "  }\n",
              "\n",
              "  [theme=dark] .colab-df-quickchart {\n",
              "      --bg-color: #3B4455;\n",
              "      --fill-color: #D2E3FC;\n",
              "      --hover-bg-color: #434B5C;\n",
              "      --hover-fill-color: #FFFFFF;\n",
              "      --disabled-bg-color: #3B4455;\n",
              "      --disabled-fill-color: #666;\n",
              "  }\n",
              "\n",
              "  .colab-df-quickchart {\n",
              "    background-color: var(--bg-color);\n",
              "    border: none;\n",
              "    border-radius: 50%;\n",
              "    cursor: pointer;\n",
              "    display: none;\n",
              "    fill: var(--fill-color);\n",
              "    height: 32px;\n",
              "    padding: 0;\n",
              "    width: 32px;\n",
              "  }\n",
              "\n",
              "  .colab-df-quickchart:hover {\n",
              "    background-color: var(--hover-bg-color);\n",
              "    box-shadow: 0 1px 2px rgba(60, 64, 67, 0.3), 0 1px 3px 1px rgba(60, 64, 67, 0.15);\n",
              "    fill: var(--button-hover-fill-color);\n",
              "  }\n",
              "\n",
              "  .colab-df-quickchart-complete:disabled,\n",
              "  .colab-df-quickchart-complete:disabled:hover {\n",
              "    background-color: var(--disabled-bg-color);\n",
              "    fill: var(--disabled-fill-color);\n",
              "    box-shadow: none;\n",
              "  }\n",
              "\n",
              "  .colab-df-spinner {\n",
              "    border: 2px solid var(--fill-color);\n",
              "    border-color: transparent;\n",
              "    border-bottom-color: var(--fill-color);\n",
              "    animation:\n",
              "      spin 1s steps(1) infinite;\n",
              "  }\n",
              "\n",
              "  @keyframes spin {\n",
              "    0% {\n",
              "      border-color: transparent;\n",
              "      border-bottom-color: var(--fill-color);\n",
              "      border-left-color: var(--fill-color);\n",
              "    }\n",
              "    20% {\n",
              "      border-color: transparent;\n",
              "      border-left-color: var(--fill-color);\n",
              "      border-top-color: var(--fill-color);\n",
              "    }\n",
              "    30% {\n",
              "      border-color: transparent;\n",
              "      border-left-color: var(--fill-color);\n",
              "      border-top-color: var(--fill-color);\n",
              "      border-right-color: var(--fill-color);\n",
              "    }\n",
              "    40% {\n",
              "      border-color: transparent;\n",
              "      border-right-color: var(--fill-color);\n",
              "      border-top-color: var(--fill-color);\n",
              "    }\n",
              "    60% {\n",
              "      border-color: transparent;\n",
              "      border-right-color: var(--fill-color);\n",
              "    }\n",
              "    80% {\n",
              "      border-color: transparent;\n",
              "      border-right-color: var(--fill-color);\n",
              "      border-bottom-color: var(--fill-color);\n",
              "    }\n",
              "    90% {\n",
              "      border-color: transparent;\n",
              "      border-bottom-color: var(--fill-color);\n",
              "    }\n",
              "  }\n",
              "</style>\n",
              "\n",
              "  <script>\n",
              "    async function quickchart(key) {\n",
              "      const quickchartButtonEl =\n",
              "        document.querySelector('#' + key + ' button');\n",
              "      quickchartButtonEl.disabled = true;  // To prevent multiple clicks.\n",
              "      quickchartButtonEl.classList.add('colab-df-spinner');\n",
              "      try {\n",
              "        const charts = await google.colab.kernel.invokeFunction(\n",
              "            'suggestCharts', [key], {});\n",
              "      } catch (error) {\n",
              "        console.error('Error during call to suggestCharts:', error);\n",
              "      }\n",
              "      quickchartButtonEl.classList.remove('colab-df-spinner');\n",
              "      quickchartButtonEl.classList.add('colab-df-quickchart-complete');\n",
              "    }\n",
              "    (() => {\n",
              "      let quickchartButtonEl =\n",
              "        document.querySelector('#df-7bc6edee-0e6f-4336-8e6f-d9b1a4084671 button');\n",
              "      quickchartButtonEl.style.display =\n",
              "        google.colab.kernel.accessAllowed ? 'block' : 'none';\n",
              "    })();\n",
              "  </script>\n",
              "</div>\n",
              "\n",
              "  <div id=\"id_d29a0d2a-0b38-45f2-94ff-f8abd52886a1\">\n",
              "    <style>\n",
              "      .colab-df-generate {\n",
              "        background-color: #E8F0FE;\n",
              "        border: none;\n",
              "        border-radius: 50%;\n",
              "        cursor: pointer;\n",
              "        display: none;\n",
              "        fill: #1967D2;\n",
              "        height: 32px;\n",
              "        padding: 0 0 0 0;\n",
              "        width: 32px;\n",
              "      }\n",
              "\n",
              "      .colab-df-generate:hover {\n",
              "        background-color: #E2EBFA;\n",
              "        box-shadow: 0px 1px 2px rgba(60, 64, 67, 0.3), 0px 1px 3px 1px rgba(60, 64, 67, 0.15);\n",
              "        fill: #174EA6;\n",
              "      }\n",
              "\n",
              "      [theme=dark] .colab-df-generate {\n",
              "        background-color: #3B4455;\n",
              "        fill: #D2E3FC;\n",
              "      }\n",
              "\n",
              "      [theme=dark] .colab-df-generate:hover {\n",
              "        background-color: #434B5C;\n",
              "        box-shadow: 0px 1px 3px 1px rgba(0, 0, 0, 0.15);\n",
              "        filter: drop-shadow(0px 1px 2px rgba(0, 0, 0, 0.3));\n",
              "        fill: #FFFFFF;\n",
              "      }\n",
              "    </style>\n",
              "    <button class=\"colab-df-generate\" onclick=\"generateWithVariable('df_fourth_1B')\"\n",
              "            title=\"Generate code using this dataframe.\"\n",
              "            style=\"display:none;\">\n",
              "\n",
              "  <svg xmlns=\"http://www.w3.org/2000/svg\" height=\"24px\"viewBox=\"0 0 24 24\"\n",
              "       width=\"24px\">\n",
              "    <path d=\"M7,19H8.4L18.45,9,17,7.55,7,17.6ZM5,21V16.75L18.45,3.32a2,2,0,0,1,2.83,0l1.4,1.43a1.91,1.91,0,0,1,.58,1.4,1.91,1.91,0,0,1-.58,1.4L9.25,21ZM18.45,9,17,7.55Zm-12,3A5.31,5.31,0,0,0,4.9,8.1,5.31,5.31,0,0,0,1,6.5,5.31,5.31,0,0,0,4.9,4.9,5.31,5.31,0,0,0,6.5,1,5.31,5.31,0,0,0,8.1,4.9,5.31,5.31,0,0,0,12,6.5,5.46,5.46,0,0,0,6.5,12Z\"/>\n",
              "  </svg>\n",
              "    </button>\n",
              "    <script>\n",
              "      (() => {\n",
              "      const buttonEl =\n",
              "        document.querySelector('#id_d29a0d2a-0b38-45f2-94ff-f8abd52886a1 button.colab-df-generate');\n",
              "      buttonEl.style.display =\n",
              "        google.colab.kernel.accessAllowed ? 'block' : 'none';\n",
              "\n",
              "      buttonEl.onclick = () => {\n",
              "        google.colab.notebook.generateWithVariable('df_fourth_1B');\n",
              "      }\n",
              "      })();\n",
              "    </script>\n",
              "  </div>\n",
              "\n",
              "    </div>\n",
              "  </div>\n"
            ]
          },
          "metadata": {},
          "execution_count": 9
        }
      ]
    },
    {
      "cell_type": "code",
      "source": [
        "level_2A_t = np.array([['Level2A', 1 , 0 , 0] , ['Level2A',1, 0, 1] , ['Level2A',1 ,1 ,1] , ['Level2A',1 ,1 ,0] ,\n",
        "                      ['Level2A', 0 , 1 , 0] , ['Level2A',0, 1, 1] , ['Level2A',0 ,0 ,1]])\n",
        "df_triplet_2A = pd.DataFrame(level_2A_t, columns = ['Level','Triplet-1','Triplet-2','Triplet-3'], index = ['T1', 'T2', 'T3','T4', 'T5', 'T6','T7'])\n",
        "df_triplet_2A['Cell'] = df_triplet_2A.index\n",
        "df_triplet_2A['Triplet-1'] = df_triplet_2A['Triplet-1'].astype(int)\n",
        "df_triplet_2A['Triplet-2'] = df_triplet_2A['Triplet-2'].astype(int)\n",
        "df_triplet_2A['Triplet-3'] = df_triplet_2A['Triplet-3'].astype(int)\n",
        "df_triplet_2A['Q'] = df_triplet_2A['Triplet-1']+ df_triplet_2A['Triplet-2'] + df_triplet_2A['Triplet-3']\n",
        "df_triplet_2A['WNBD'] = [0 , 3 , 6, 3, 3, 6, 3]\n",
        "df_triplet_2A['Pressing'] = [\"\" , \"\" , \"\", \"\" , \"\" , \"\" , \"\"]\n",
        "df_triplet_2A"
      ],
      "metadata": {
        "colab": {
          "base_uri": "https://localhost:8080/",
          "height": 269
        },
        "id": "jNp-Y_eyMKYY",
        "outputId": "001a720e-a774-46cd-e2d2-1d6a1692f408"
      },
      "execution_count": 10,
      "outputs": [
        {
          "output_type": "execute_result",
          "data": {
            "text/plain": [
              "      Level  Triplet-1  Triplet-2  Triplet-3 Cell  Q  WNBD Pressing\n",
              "T1  Level2A          1          0          0   T1  1     0         \n",
              "T2  Level2A          1          0          1   T2  2     3         \n",
              "T3  Level2A          1          1          1   T3  3     6         \n",
              "T4  Level2A          1          1          0   T4  2     3         \n",
              "T5  Level2A          0          1          0   T5  1     3         \n",
              "T6  Level2A          0          1          1   T6  2     6         \n",
              "T7  Level2A          0          0          1   T7  1     3         "
            ],
            "text/html": [
              "\n",
              "  <div id=\"df-429d37b2-0332-47e8-b8b9-a3b8c4aa06cd\" class=\"colab-df-container\">\n",
              "    <div>\n",
              "<style scoped>\n",
              "    .dataframe tbody tr th:only-of-type {\n",
              "        vertical-align: middle;\n",
              "    }\n",
              "\n",
              "    .dataframe tbody tr th {\n",
              "        vertical-align: top;\n",
              "    }\n",
              "\n",
              "    .dataframe thead th {\n",
              "        text-align: right;\n",
              "    }\n",
              "</style>\n",
              "<table border=\"1\" class=\"dataframe\">\n",
              "  <thead>\n",
              "    <tr style=\"text-align: right;\">\n",
              "      <th></th>\n",
              "      <th>Level</th>\n",
              "      <th>Triplet-1</th>\n",
              "      <th>Triplet-2</th>\n",
              "      <th>Triplet-3</th>\n",
              "      <th>Cell</th>\n",
              "      <th>Q</th>\n",
              "      <th>WNBD</th>\n",
              "      <th>Pressing</th>\n",
              "    </tr>\n",
              "  </thead>\n",
              "  <tbody>\n",
              "    <tr>\n",
              "      <th>T1</th>\n",
              "      <td>Level2A</td>\n",
              "      <td>1</td>\n",
              "      <td>0</td>\n",
              "      <td>0</td>\n",
              "      <td>T1</td>\n",
              "      <td>1</td>\n",
              "      <td>0</td>\n",
              "      <td></td>\n",
              "    </tr>\n",
              "    <tr>\n",
              "      <th>T2</th>\n",
              "      <td>Level2A</td>\n",
              "      <td>1</td>\n",
              "      <td>0</td>\n",
              "      <td>1</td>\n",
              "      <td>T2</td>\n",
              "      <td>2</td>\n",
              "      <td>3</td>\n",
              "      <td></td>\n",
              "    </tr>\n",
              "    <tr>\n",
              "      <th>T3</th>\n",
              "      <td>Level2A</td>\n",
              "      <td>1</td>\n",
              "      <td>1</td>\n",
              "      <td>1</td>\n",
              "      <td>T3</td>\n",
              "      <td>3</td>\n",
              "      <td>6</td>\n",
              "      <td></td>\n",
              "    </tr>\n",
              "    <tr>\n",
              "      <th>T4</th>\n",
              "      <td>Level2A</td>\n",
              "      <td>1</td>\n",
              "      <td>1</td>\n",
              "      <td>0</td>\n",
              "      <td>T4</td>\n",
              "      <td>2</td>\n",
              "      <td>3</td>\n",
              "      <td></td>\n",
              "    </tr>\n",
              "    <tr>\n",
              "      <th>T5</th>\n",
              "      <td>Level2A</td>\n",
              "      <td>0</td>\n",
              "      <td>1</td>\n",
              "      <td>0</td>\n",
              "      <td>T5</td>\n",
              "      <td>1</td>\n",
              "      <td>3</td>\n",
              "      <td></td>\n",
              "    </tr>\n",
              "    <tr>\n",
              "      <th>T6</th>\n",
              "      <td>Level2A</td>\n",
              "      <td>0</td>\n",
              "      <td>1</td>\n",
              "      <td>1</td>\n",
              "      <td>T6</td>\n",
              "      <td>2</td>\n",
              "      <td>6</td>\n",
              "      <td></td>\n",
              "    </tr>\n",
              "    <tr>\n",
              "      <th>T7</th>\n",
              "      <td>Level2A</td>\n",
              "      <td>0</td>\n",
              "      <td>0</td>\n",
              "      <td>1</td>\n",
              "      <td>T7</td>\n",
              "      <td>1</td>\n",
              "      <td>3</td>\n",
              "      <td></td>\n",
              "    </tr>\n",
              "  </tbody>\n",
              "</table>\n",
              "</div>\n",
              "    <div class=\"colab-df-buttons\">\n",
              "\n",
              "  <div class=\"colab-df-container\">\n",
              "    <button class=\"colab-df-convert\" onclick=\"convertToInteractive('df-429d37b2-0332-47e8-b8b9-a3b8c4aa06cd')\"\n",
              "            title=\"Convert this dataframe to an interactive table.\"\n",
              "            style=\"display:none;\">\n",
              "\n",
              "  <svg xmlns=\"http://www.w3.org/2000/svg\" height=\"24px\" viewBox=\"0 -960 960 960\">\n",
              "    <path d=\"M120-120v-720h720v720H120Zm60-500h600v-160H180v160Zm220 220h160v-160H400v160Zm0 220h160v-160H400v160ZM180-400h160v-160H180v160Zm440 0h160v-160H620v160ZM180-180h160v-160H180v160Zm440 0h160v-160H620v160Z\"/>\n",
              "  </svg>\n",
              "    </button>\n",
              "\n",
              "  <style>\n",
              "    .colab-df-container {\n",
              "      display:flex;\n",
              "      gap: 12px;\n",
              "    }\n",
              "\n",
              "    .colab-df-convert {\n",
              "      background-color: #E8F0FE;\n",
              "      border: none;\n",
              "      border-radius: 50%;\n",
              "      cursor: pointer;\n",
              "      display: none;\n",
              "      fill: #1967D2;\n",
              "      height: 32px;\n",
              "      padding: 0 0 0 0;\n",
              "      width: 32px;\n",
              "    }\n",
              "\n",
              "    .colab-df-convert:hover {\n",
              "      background-color: #E2EBFA;\n",
              "      box-shadow: 0px 1px 2px rgba(60, 64, 67, 0.3), 0px 1px 3px 1px rgba(60, 64, 67, 0.15);\n",
              "      fill: #174EA6;\n",
              "    }\n",
              "\n",
              "    .colab-df-buttons div {\n",
              "      margin-bottom: 4px;\n",
              "    }\n",
              "\n",
              "    [theme=dark] .colab-df-convert {\n",
              "      background-color: #3B4455;\n",
              "      fill: #D2E3FC;\n",
              "    }\n",
              "\n",
              "    [theme=dark] .colab-df-convert:hover {\n",
              "      background-color: #434B5C;\n",
              "      box-shadow: 0px 1px 3px 1px rgba(0, 0, 0, 0.15);\n",
              "      filter: drop-shadow(0px 1px 2px rgba(0, 0, 0, 0.3));\n",
              "      fill: #FFFFFF;\n",
              "    }\n",
              "  </style>\n",
              "\n",
              "    <script>\n",
              "      const buttonEl =\n",
              "        document.querySelector('#df-429d37b2-0332-47e8-b8b9-a3b8c4aa06cd button.colab-df-convert');\n",
              "      buttonEl.style.display =\n",
              "        google.colab.kernel.accessAllowed ? 'block' : 'none';\n",
              "\n",
              "      async function convertToInteractive(key) {\n",
              "        const element = document.querySelector('#df-429d37b2-0332-47e8-b8b9-a3b8c4aa06cd');\n",
              "        const dataTable =\n",
              "          await google.colab.kernel.invokeFunction('convertToInteractive',\n",
              "                                                    [key], {});\n",
              "        if (!dataTable) return;\n",
              "\n",
              "        const docLinkHtml = 'Like what you see? Visit the ' +\n",
              "          '<a target=\"_blank\" href=https://colab.research.google.com/notebooks/data_table.ipynb>data table notebook</a>'\n",
              "          + ' to learn more about interactive tables.';\n",
              "        element.innerHTML = '';\n",
              "        dataTable['output_type'] = 'display_data';\n",
              "        await google.colab.output.renderOutput(dataTable, element);\n",
              "        const docLink = document.createElement('div');\n",
              "        docLink.innerHTML = docLinkHtml;\n",
              "        element.appendChild(docLink);\n",
              "      }\n",
              "    </script>\n",
              "  </div>\n",
              "\n",
              "\n",
              "<div id=\"df-670a9271-7e58-45de-84c9-2ce4b7320d72\">\n",
              "  <button class=\"colab-df-quickchart\" onclick=\"quickchart('df-670a9271-7e58-45de-84c9-2ce4b7320d72')\"\n",
              "            title=\"Suggest charts\"\n",
              "            style=\"display:none;\">\n",
              "\n",
              "<svg xmlns=\"http://www.w3.org/2000/svg\" height=\"24px\"viewBox=\"0 0 24 24\"\n",
              "     width=\"24px\">\n",
              "    <g>\n",
              "        <path d=\"M19 3H5c-1.1 0-2 .9-2 2v14c0 1.1.9 2 2 2h14c1.1 0 2-.9 2-2V5c0-1.1-.9-2-2-2zM9 17H7v-7h2v7zm4 0h-2V7h2v10zm4 0h-2v-4h2v4z\"/>\n",
              "    </g>\n",
              "</svg>\n",
              "  </button>\n",
              "\n",
              "<style>\n",
              "  .colab-df-quickchart {\n",
              "      --bg-color: #E8F0FE;\n",
              "      --fill-color: #1967D2;\n",
              "      --hover-bg-color: #E2EBFA;\n",
              "      --hover-fill-color: #174EA6;\n",
              "      --disabled-fill-color: #AAA;\n",
              "      --disabled-bg-color: #DDD;\n",
              "  }\n",
              "\n",
              "  [theme=dark] .colab-df-quickchart {\n",
              "      --bg-color: #3B4455;\n",
              "      --fill-color: #D2E3FC;\n",
              "      --hover-bg-color: #434B5C;\n",
              "      --hover-fill-color: #FFFFFF;\n",
              "      --disabled-bg-color: #3B4455;\n",
              "      --disabled-fill-color: #666;\n",
              "  }\n",
              "\n",
              "  .colab-df-quickchart {\n",
              "    background-color: var(--bg-color);\n",
              "    border: none;\n",
              "    border-radius: 50%;\n",
              "    cursor: pointer;\n",
              "    display: none;\n",
              "    fill: var(--fill-color);\n",
              "    height: 32px;\n",
              "    padding: 0;\n",
              "    width: 32px;\n",
              "  }\n",
              "\n",
              "  .colab-df-quickchart:hover {\n",
              "    background-color: var(--hover-bg-color);\n",
              "    box-shadow: 0 1px 2px rgba(60, 64, 67, 0.3), 0 1px 3px 1px rgba(60, 64, 67, 0.15);\n",
              "    fill: var(--button-hover-fill-color);\n",
              "  }\n",
              "\n",
              "  .colab-df-quickchart-complete:disabled,\n",
              "  .colab-df-quickchart-complete:disabled:hover {\n",
              "    background-color: var(--disabled-bg-color);\n",
              "    fill: var(--disabled-fill-color);\n",
              "    box-shadow: none;\n",
              "  }\n",
              "\n",
              "  .colab-df-spinner {\n",
              "    border: 2px solid var(--fill-color);\n",
              "    border-color: transparent;\n",
              "    border-bottom-color: var(--fill-color);\n",
              "    animation:\n",
              "      spin 1s steps(1) infinite;\n",
              "  }\n",
              "\n",
              "  @keyframes spin {\n",
              "    0% {\n",
              "      border-color: transparent;\n",
              "      border-bottom-color: var(--fill-color);\n",
              "      border-left-color: var(--fill-color);\n",
              "    }\n",
              "    20% {\n",
              "      border-color: transparent;\n",
              "      border-left-color: var(--fill-color);\n",
              "      border-top-color: var(--fill-color);\n",
              "    }\n",
              "    30% {\n",
              "      border-color: transparent;\n",
              "      border-left-color: var(--fill-color);\n",
              "      border-top-color: var(--fill-color);\n",
              "      border-right-color: var(--fill-color);\n",
              "    }\n",
              "    40% {\n",
              "      border-color: transparent;\n",
              "      border-right-color: var(--fill-color);\n",
              "      border-top-color: var(--fill-color);\n",
              "    }\n",
              "    60% {\n",
              "      border-color: transparent;\n",
              "      border-right-color: var(--fill-color);\n",
              "    }\n",
              "    80% {\n",
              "      border-color: transparent;\n",
              "      border-right-color: var(--fill-color);\n",
              "      border-bottom-color: var(--fill-color);\n",
              "    }\n",
              "    90% {\n",
              "      border-color: transparent;\n",
              "      border-bottom-color: var(--fill-color);\n",
              "    }\n",
              "  }\n",
              "</style>\n",
              "\n",
              "  <script>\n",
              "    async function quickchart(key) {\n",
              "      const quickchartButtonEl =\n",
              "        document.querySelector('#' + key + ' button');\n",
              "      quickchartButtonEl.disabled = true;  // To prevent multiple clicks.\n",
              "      quickchartButtonEl.classList.add('colab-df-spinner');\n",
              "      try {\n",
              "        const charts = await google.colab.kernel.invokeFunction(\n",
              "            'suggestCharts', [key], {});\n",
              "      } catch (error) {\n",
              "        console.error('Error during call to suggestCharts:', error);\n",
              "      }\n",
              "      quickchartButtonEl.classList.remove('colab-df-spinner');\n",
              "      quickchartButtonEl.classList.add('colab-df-quickchart-complete');\n",
              "    }\n",
              "    (() => {\n",
              "      let quickchartButtonEl =\n",
              "        document.querySelector('#df-670a9271-7e58-45de-84c9-2ce4b7320d72 button');\n",
              "      quickchartButtonEl.style.display =\n",
              "        google.colab.kernel.accessAllowed ? 'block' : 'none';\n",
              "    })();\n",
              "  </script>\n",
              "</div>\n",
              "\n",
              "  <div id=\"id_2ae280ba-ff8d-4295-936f-6750a4b3ef54\">\n",
              "    <style>\n",
              "      .colab-df-generate {\n",
              "        background-color: #E8F0FE;\n",
              "        border: none;\n",
              "        border-radius: 50%;\n",
              "        cursor: pointer;\n",
              "        display: none;\n",
              "        fill: #1967D2;\n",
              "        height: 32px;\n",
              "        padding: 0 0 0 0;\n",
              "        width: 32px;\n",
              "      }\n",
              "\n",
              "      .colab-df-generate:hover {\n",
              "        background-color: #E2EBFA;\n",
              "        box-shadow: 0px 1px 2px rgba(60, 64, 67, 0.3), 0px 1px 3px 1px rgba(60, 64, 67, 0.15);\n",
              "        fill: #174EA6;\n",
              "      }\n",
              "\n",
              "      [theme=dark] .colab-df-generate {\n",
              "        background-color: #3B4455;\n",
              "        fill: #D2E3FC;\n",
              "      }\n",
              "\n",
              "      [theme=dark] .colab-df-generate:hover {\n",
              "        background-color: #434B5C;\n",
              "        box-shadow: 0px 1px 3px 1px rgba(0, 0, 0, 0.15);\n",
              "        filter: drop-shadow(0px 1px 2px rgba(0, 0, 0, 0.3));\n",
              "        fill: #FFFFFF;\n",
              "      }\n",
              "    </style>\n",
              "    <button class=\"colab-df-generate\" onclick=\"generateWithVariable('df_triplet_2A')\"\n",
              "            title=\"Generate code using this dataframe.\"\n",
              "            style=\"display:none;\">\n",
              "\n",
              "  <svg xmlns=\"http://www.w3.org/2000/svg\" height=\"24px\"viewBox=\"0 0 24 24\"\n",
              "       width=\"24px\">\n",
              "    <path d=\"M7,19H8.4L18.45,9,17,7.55,7,17.6ZM5,21V16.75L18.45,3.32a2,2,0,0,1,2.83,0l1.4,1.43a1.91,1.91,0,0,1,.58,1.4,1.91,1.91,0,0,1-.58,1.4L9.25,21ZM18.45,9,17,7.55Zm-12,3A5.31,5.31,0,0,0,4.9,8.1,5.31,5.31,0,0,0,1,6.5,5.31,5.31,0,0,0,4.9,4.9,5.31,5.31,0,0,0,6.5,1,5.31,5.31,0,0,0,8.1,4.9,5.31,5.31,0,0,0,12,6.5,5.46,5.46,0,0,0,6.5,12Z\"/>\n",
              "  </svg>\n",
              "    </button>\n",
              "    <script>\n",
              "      (() => {\n",
              "      const buttonEl =\n",
              "        document.querySelector('#id_2ae280ba-ff8d-4295-936f-6750a4b3ef54 button.colab-df-generate');\n",
              "      buttonEl.style.display =\n",
              "        google.colab.kernel.accessAllowed ? 'block' : 'none';\n",
              "\n",
              "      buttonEl.onclick = () => {\n",
              "        google.colab.notebook.generateWithVariable('df_triplet_2A');\n",
              "      }\n",
              "      })();\n",
              "    </script>\n",
              "  </div>\n",
              "\n",
              "    </div>\n",
              "  </div>\n"
            ]
          },
          "metadata": {},
          "execution_count": 10
        }
      ]
    },
    {
      "cell_type": "code",
      "source": [
        "level_2B_f = np.array([['Level2B', 1, 0, 0, 0], ['Level2B', 0, 0, 1, 0], ['Level2B', 1, 0, 1, 0], ['Level2B', 1, 0, 1, 1],\n",
        "                      ['Level2B', 1, 1, 1, 0], ['Level2B', 1, 1, 1, 1], ['Level2B', 1, 0, 0, 1],\n",
        "                      ['Level2B', 0, 1, 1, 0], ['Level2B', 0, 1, 0, 1], ['Level2B', 0, 0, 1, 1], ['Level2B', 1, 1, 0, 0],\n",
        "                      ['Level2B', 1, 1, 0, 1], ['Level2B', 0, 0, 0, 1], ['Level2B', 0, 1, 0, 0]])\n",
        "\n",
        "df_fourth_2B = pd.DataFrame(level_2B_f, columns = ['Level','Straight-1','Straight-2','Straight-3','Straight-4'],\n",
        "                           index = ['S1', 'S2', 'S3', 'S4' , 'S5', 'S6', 'S7',\n",
        "                                    'S8', 'S9', 'S10', 'S11' , 'S12', 'S13', 'S14'])\n",
        "df_fourth_2B['Cell'] = df_fourth_2B.index\n",
        "df_fourth_2B['Straight-1'] = df_fourth_2B['Straight-1'].astype(int)\n",
        "df_fourth_2B['Straight-2'] = df_fourth_2B['Straight-2'].astype(int)\n",
        "df_fourth_2B['Straight-3'] = df_fourth_2B['Straight-3'].astype(int)\n",
        "df_fourth_2B['Straight-4'] = df_fourth_2B['Straight-4'].astype(int)\n",
        "df_fourth_2B['Q'] = df_fourth_2B['Straight-1']+df_fourth_2B['Straight-2']+df_fourth_2B['Straight-3']+df_fourth_2B['Straight-4']\n",
        "df_fourth_2B['WNBD'] = [0 , 2 , 2 , 6, 6 , 10, 4, 6, 8, 6, 4, 8 , 4 , 4]\n",
        "df_fourth_2B['Pressing'] = [0 , 5.5 ,1 , 5.5, 1 , 1, 4.5, 6.5, 10, 5.5, 2.5, 4.5, 7.5, 7.5 ]\n",
        "df_fourth_2B"
      ],
      "metadata": {
        "colab": {
          "base_uri": "https://localhost:8080/",
          "height": 488
        },
        "id": "Qo4_eWVUMMn1",
        "outputId": "0be69e96-f8c9-44f9-fd3b-c0a1cb4dddc2"
      },
      "execution_count": 11,
      "outputs": [
        {
          "output_type": "execute_result",
          "data": {
            "text/plain": [
              "       Level  Straight-1  Straight-2  Straight-3  Straight-4 Cell  Q  WNBD  \\\n",
              "S1   Level2B           1           0           0           0   S1  1     0   \n",
              "S2   Level2B           0           0           1           0   S2  1     2   \n",
              "S3   Level2B           1           0           1           0   S3  2     2   \n",
              "S4   Level2B           1           0           1           1   S4  3     6   \n",
              "S5   Level2B           1           1           1           0   S5  3     6   \n",
              "S6   Level2B           1           1           1           1   S6  4    10   \n",
              "S7   Level2B           1           0           0           1   S7  2     4   \n",
              "S8   Level2B           0           1           1           0   S8  2     6   \n",
              "S9   Level2B           0           1           0           1   S9  2     8   \n",
              "S10  Level2B           0           0           1           1  S10  2     6   \n",
              "S11  Level2B           1           1           0           0  S11  2     4   \n",
              "S12  Level2B           1           1           0           1  S12  3     8   \n",
              "S13  Level2B           0           0           0           1  S13  1     4   \n",
              "S14  Level2B           0           1           0           0  S14  1     4   \n",
              "\n",
              "     Pressing  \n",
              "S1        0.0  \n",
              "S2        5.5  \n",
              "S3        1.0  \n",
              "S4        5.5  \n",
              "S5        1.0  \n",
              "S6        1.0  \n",
              "S7        4.5  \n",
              "S8        6.5  \n",
              "S9       10.0  \n",
              "S10       5.5  \n",
              "S11       2.5  \n",
              "S12       4.5  \n",
              "S13       7.5  \n",
              "S14       7.5  "
            ],
            "text/html": [
              "\n",
              "  <div id=\"df-876baa2a-24ab-4ef8-9aab-e9a9b772e205\" class=\"colab-df-container\">\n",
              "    <div>\n",
              "<style scoped>\n",
              "    .dataframe tbody tr th:only-of-type {\n",
              "        vertical-align: middle;\n",
              "    }\n",
              "\n",
              "    .dataframe tbody tr th {\n",
              "        vertical-align: top;\n",
              "    }\n",
              "\n",
              "    .dataframe thead th {\n",
              "        text-align: right;\n",
              "    }\n",
              "</style>\n",
              "<table border=\"1\" class=\"dataframe\">\n",
              "  <thead>\n",
              "    <tr style=\"text-align: right;\">\n",
              "      <th></th>\n",
              "      <th>Level</th>\n",
              "      <th>Straight-1</th>\n",
              "      <th>Straight-2</th>\n",
              "      <th>Straight-3</th>\n",
              "      <th>Straight-4</th>\n",
              "      <th>Cell</th>\n",
              "      <th>Q</th>\n",
              "      <th>WNBD</th>\n",
              "      <th>Pressing</th>\n",
              "    </tr>\n",
              "  </thead>\n",
              "  <tbody>\n",
              "    <tr>\n",
              "      <th>S1</th>\n",
              "      <td>Level2B</td>\n",
              "      <td>1</td>\n",
              "      <td>0</td>\n",
              "      <td>0</td>\n",
              "      <td>0</td>\n",
              "      <td>S1</td>\n",
              "      <td>1</td>\n",
              "      <td>0</td>\n",
              "      <td>0.0</td>\n",
              "    </tr>\n",
              "    <tr>\n",
              "      <th>S2</th>\n",
              "      <td>Level2B</td>\n",
              "      <td>0</td>\n",
              "      <td>0</td>\n",
              "      <td>1</td>\n",
              "      <td>0</td>\n",
              "      <td>S2</td>\n",
              "      <td>1</td>\n",
              "      <td>2</td>\n",
              "      <td>5.5</td>\n",
              "    </tr>\n",
              "    <tr>\n",
              "      <th>S3</th>\n",
              "      <td>Level2B</td>\n",
              "      <td>1</td>\n",
              "      <td>0</td>\n",
              "      <td>1</td>\n",
              "      <td>0</td>\n",
              "      <td>S3</td>\n",
              "      <td>2</td>\n",
              "      <td>2</td>\n",
              "      <td>1.0</td>\n",
              "    </tr>\n",
              "    <tr>\n",
              "      <th>S4</th>\n",
              "      <td>Level2B</td>\n",
              "      <td>1</td>\n",
              "      <td>0</td>\n",
              "      <td>1</td>\n",
              "      <td>1</td>\n",
              "      <td>S4</td>\n",
              "      <td>3</td>\n",
              "      <td>6</td>\n",
              "      <td>5.5</td>\n",
              "    </tr>\n",
              "    <tr>\n",
              "      <th>S5</th>\n",
              "      <td>Level2B</td>\n",
              "      <td>1</td>\n",
              "      <td>1</td>\n",
              "      <td>1</td>\n",
              "      <td>0</td>\n",
              "      <td>S5</td>\n",
              "      <td>3</td>\n",
              "      <td>6</td>\n",
              "      <td>1.0</td>\n",
              "    </tr>\n",
              "    <tr>\n",
              "      <th>S6</th>\n",
              "      <td>Level2B</td>\n",
              "      <td>1</td>\n",
              "      <td>1</td>\n",
              "      <td>1</td>\n",
              "      <td>1</td>\n",
              "      <td>S6</td>\n",
              "      <td>4</td>\n",
              "      <td>10</td>\n",
              "      <td>1.0</td>\n",
              "    </tr>\n",
              "    <tr>\n",
              "      <th>S7</th>\n",
              "      <td>Level2B</td>\n",
              "      <td>1</td>\n",
              "      <td>0</td>\n",
              "      <td>0</td>\n",
              "      <td>1</td>\n",
              "      <td>S7</td>\n",
              "      <td>2</td>\n",
              "      <td>4</td>\n",
              "      <td>4.5</td>\n",
              "    </tr>\n",
              "    <tr>\n",
              "      <th>S8</th>\n",
              "      <td>Level2B</td>\n",
              "      <td>0</td>\n",
              "      <td>1</td>\n",
              "      <td>1</td>\n",
              "      <td>0</td>\n",
              "      <td>S8</td>\n",
              "      <td>2</td>\n",
              "      <td>6</td>\n",
              "      <td>6.5</td>\n",
              "    </tr>\n",
              "    <tr>\n",
              "      <th>S9</th>\n",
              "      <td>Level2B</td>\n",
              "      <td>0</td>\n",
              "      <td>1</td>\n",
              "      <td>0</td>\n",
              "      <td>1</td>\n",
              "      <td>S9</td>\n",
              "      <td>2</td>\n",
              "      <td>8</td>\n",
              "      <td>10.0</td>\n",
              "    </tr>\n",
              "    <tr>\n",
              "      <th>S10</th>\n",
              "      <td>Level2B</td>\n",
              "      <td>0</td>\n",
              "      <td>0</td>\n",
              "      <td>1</td>\n",
              "      <td>1</td>\n",
              "      <td>S10</td>\n",
              "      <td>2</td>\n",
              "      <td>6</td>\n",
              "      <td>5.5</td>\n",
              "    </tr>\n",
              "    <tr>\n",
              "      <th>S11</th>\n",
              "      <td>Level2B</td>\n",
              "      <td>1</td>\n",
              "      <td>1</td>\n",
              "      <td>0</td>\n",
              "      <td>0</td>\n",
              "      <td>S11</td>\n",
              "      <td>2</td>\n",
              "      <td>4</td>\n",
              "      <td>2.5</td>\n",
              "    </tr>\n",
              "    <tr>\n",
              "      <th>S12</th>\n",
              "      <td>Level2B</td>\n",
              "      <td>1</td>\n",
              "      <td>1</td>\n",
              "      <td>0</td>\n",
              "      <td>1</td>\n",
              "      <td>S12</td>\n",
              "      <td>3</td>\n",
              "      <td>8</td>\n",
              "      <td>4.5</td>\n",
              "    </tr>\n",
              "    <tr>\n",
              "      <th>S13</th>\n",
              "      <td>Level2B</td>\n",
              "      <td>0</td>\n",
              "      <td>0</td>\n",
              "      <td>0</td>\n",
              "      <td>1</td>\n",
              "      <td>S13</td>\n",
              "      <td>1</td>\n",
              "      <td>4</td>\n",
              "      <td>7.5</td>\n",
              "    </tr>\n",
              "    <tr>\n",
              "      <th>S14</th>\n",
              "      <td>Level2B</td>\n",
              "      <td>0</td>\n",
              "      <td>1</td>\n",
              "      <td>0</td>\n",
              "      <td>0</td>\n",
              "      <td>S14</td>\n",
              "      <td>1</td>\n",
              "      <td>4</td>\n",
              "      <td>7.5</td>\n",
              "    </tr>\n",
              "  </tbody>\n",
              "</table>\n",
              "</div>\n",
              "    <div class=\"colab-df-buttons\">\n",
              "\n",
              "  <div class=\"colab-df-container\">\n",
              "    <button class=\"colab-df-convert\" onclick=\"convertToInteractive('df-876baa2a-24ab-4ef8-9aab-e9a9b772e205')\"\n",
              "            title=\"Convert this dataframe to an interactive table.\"\n",
              "            style=\"display:none;\">\n",
              "\n",
              "  <svg xmlns=\"http://www.w3.org/2000/svg\" height=\"24px\" viewBox=\"0 -960 960 960\">\n",
              "    <path d=\"M120-120v-720h720v720H120Zm60-500h600v-160H180v160Zm220 220h160v-160H400v160Zm0 220h160v-160H400v160ZM180-400h160v-160H180v160Zm440 0h160v-160H620v160ZM180-180h160v-160H180v160Zm440 0h160v-160H620v160Z\"/>\n",
              "  </svg>\n",
              "    </button>\n",
              "\n",
              "  <style>\n",
              "    .colab-df-container {\n",
              "      display:flex;\n",
              "      gap: 12px;\n",
              "    }\n",
              "\n",
              "    .colab-df-convert {\n",
              "      background-color: #E8F0FE;\n",
              "      border: none;\n",
              "      border-radius: 50%;\n",
              "      cursor: pointer;\n",
              "      display: none;\n",
              "      fill: #1967D2;\n",
              "      height: 32px;\n",
              "      padding: 0 0 0 0;\n",
              "      width: 32px;\n",
              "    }\n",
              "\n",
              "    .colab-df-convert:hover {\n",
              "      background-color: #E2EBFA;\n",
              "      box-shadow: 0px 1px 2px rgba(60, 64, 67, 0.3), 0px 1px 3px 1px rgba(60, 64, 67, 0.15);\n",
              "      fill: #174EA6;\n",
              "    }\n",
              "\n",
              "    .colab-df-buttons div {\n",
              "      margin-bottom: 4px;\n",
              "    }\n",
              "\n",
              "    [theme=dark] .colab-df-convert {\n",
              "      background-color: #3B4455;\n",
              "      fill: #D2E3FC;\n",
              "    }\n",
              "\n",
              "    [theme=dark] .colab-df-convert:hover {\n",
              "      background-color: #434B5C;\n",
              "      box-shadow: 0px 1px 3px 1px rgba(0, 0, 0, 0.15);\n",
              "      filter: drop-shadow(0px 1px 2px rgba(0, 0, 0, 0.3));\n",
              "      fill: #FFFFFF;\n",
              "    }\n",
              "  </style>\n",
              "\n",
              "    <script>\n",
              "      const buttonEl =\n",
              "        document.querySelector('#df-876baa2a-24ab-4ef8-9aab-e9a9b772e205 button.colab-df-convert');\n",
              "      buttonEl.style.display =\n",
              "        google.colab.kernel.accessAllowed ? 'block' : 'none';\n",
              "\n",
              "      async function convertToInteractive(key) {\n",
              "        const element = document.querySelector('#df-876baa2a-24ab-4ef8-9aab-e9a9b772e205');\n",
              "        const dataTable =\n",
              "          await google.colab.kernel.invokeFunction('convertToInteractive',\n",
              "                                                    [key], {});\n",
              "        if (!dataTable) return;\n",
              "\n",
              "        const docLinkHtml = 'Like what you see? Visit the ' +\n",
              "          '<a target=\"_blank\" href=https://colab.research.google.com/notebooks/data_table.ipynb>data table notebook</a>'\n",
              "          + ' to learn more about interactive tables.';\n",
              "        element.innerHTML = '';\n",
              "        dataTable['output_type'] = 'display_data';\n",
              "        await google.colab.output.renderOutput(dataTable, element);\n",
              "        const docLink = document.createElement('div');\n",
              "        docLink.innerHTML = docLinkHtml;\n",
              "        element.appendChild(docLink);\n",
              "      }\n",
              "    </script>\n",
              "  </div>\n",
              "\n",
              "\n",
              "<div id=\"df-06830ef7-aabd-4254-acf0-56af4b5f172e\">\n",
              "  <button class=\"colab-df-quickchart\" onclick=\"quickchart('df-06830ef7-aabd-4254-acf0-56af4b5f172e')\"\n",
              "            title=\"Suggest charts\"\n",
              "            style=\"display:none;\">\n",
              "\n",
              "<svg xmlns=\"http://www.w3.org/2000/svg\" height=\"24px\"viewBox=\"0 0 24 24\"\n",
              "     width=\"24px\">\n",
              "    <g>\n",
              "        <path d=\"M19 3H5c-1.1 0-2 .9-2 2v14c0 1.1.9 2 2 2h14c1.1 0 2-.9 2-2V5c0-1.1-.9-2-2-2zM9 17H7v-7h2v7zm4 0h-2V7h2v10zm4 0h-2v-4h2v4z\"/>\n",
              "    </g>\n",
              "</svg>\n",
              "  </button>\n",
              "\n",
              "<style>\n",
              "  .colab-df-quickchart {\n",
              "      --bg-color: #E8F0FE;\n",
              "      --fill-color: #1967D2;\n",
              "      --hover-bg-color: #E2EBFA;\n",
              "      --hover-fill-color: #174EA6;\n",
              "      --disabled-fill-color: #AAA;\n",
              "      --disabled-bg-color: #DDD;\n",
              "  }\n",
              "\n",
              "  [theme=dark] .colab-df-quickchart {\n",
              "      --bg-color: #3B4455;\n",
              "      --fill-color: #D2E3FC;\n",
              "      --hover-bg-color: #434B5C;\n",
              "      --hover-fill-color: #FFFFFF;\n",
              "      --disabled-bg-color: #3B4455;\n",
              "      --disabled-fill-color: #666;\n",
              "  }\n",
              "\n",
              "  .colab-df-quickchart {\n",
              "    background-color: var(--bg-color);\n",
              "    border: none;\n",
              "    border-radius: 50%;\n",
              "    cursor: pointer;\n",
              "    display: none;\n",
              "    fill: var(--fill-color);\n",
              "    height: 32px;\n",
              "    padding: 0;\n",
              "    width: 32px;\n",
              "  }\n",
              "\n",
              "  .colab-df-quickchart:hover {\n",
              "    background-color: var(--hover-bg-color);\n",
              "    box-shadow: 0 1px 2px rgba(60, 64, 67, 0.3), 0 1px 3px 1px rgba(60, 64, 67, 0.15);\n",
              "    fill: var(--button-hover-fill-color);\n",
              "  }\n",
              "\n",
              "  .colab-df-quickchart-complete:disabled,\n",
              "  .colab-df-quickchart-complete:disabled:hover {\n",
              "    background-color: var(--disabled-bg-color);\n",
              "    fill: var(--disabled-fill-color);\n",
              "    box-shadow: none;\n",
              "  }\n",
              "\n",
              "  .colab-df-spinner {\n",
              "    border: 2px solid var(--fill-color);\n",
              "    border-color: transparent;\n",
              "    border-bottom-color: var(--fill-color);\n",
              "    animation:\n",
              "      spin 1s steps(1) infinite;\n",
              "  }\n",
              "\n",
              "  @keyframes spin {\n",
              "    0% {\n",
              "      border-color: transparent;\n",
              "      border-bottom-color: var(--fill-color);\n",
              "      border-left-color: var(--fill-color);\n",
              "    }\n",
              "    20% {\n",
              "      border-color: transparent;\n",
              "      border-left-color: var(--fill-color);\n",
              "      border-top-color: var(--fill-color);\n",
              "    }\n",
              "    30% {\n",
              "      border-color: transparent;\n",
              "      border-left-color: var(--fill-color);\n",
              "      border-top-color: var(--fill-color);\n",
              "      border-right-color: var(--fill-color);\n",
              "    }\n",
              "    40% {\n",
              "      border-color: transparent;\n",
              "      border-right-color: var(--fill-color);\n",
              "      border-top-color: var(--fill-color);\n",
              "    }\n",
              "    60% {\n",
              "      border-color: transparent;\n",
              "      border-right-color: var(--fill-color);\n",
              "    }\n",
              "    80% {\n",
              "      border-color: transparent;\n",
              "      border-right-color: var(--fill-color);\n",
              "      border-bottom-color: var(--fill-color);\n",
              "    }\n",
              "    90% {\n",
              "      border-color: transparent;\n",
              "      border-bottom-color: var(--fill-color);\n",
              "    }\n",
              "  }\n",
              "</style>\n",
              "\n",
              "  <script>\n",
              "    async function quickchart(key) {\n",
              "      const quickchartButtonEl =\n",
              "        document.querySelector('#' + key + ' button');\n",
              "      quickchartButtonEl.disabled = true;  // To prevent multiple clicks.\n",
              "      quickchartButtonEl.classList.add('colab-df-spinner');\n",
              "      try {\n",
              "        const charts = await google.colab.kernel.invokeFunction(\n",
              "            'suggestCharts', [key], {});\n",
              "      } catch (error) {\n",
              "        console.error('Error during call to suggestCharts:', error);\n",
              "      }\n",
              "      quickchartButtonEl.classList.remove('colab-df-spinner');\n",
              "      quickchartButtonEl.classList.add('colab-df-quickchart-complete');\n",
              "    }\n",
              "    (() => {\n",
              "      let quickchartButtonEl =\n",
              "        document.querySelector('#df-06830ef7-aabd-4254-acf0-56af4b5f172e button');\n",
              "      quickchartButtonEl.style.display =\n",
              "        google.colab.kernel.accessAllowed ? 'block' : 'none';\n",
              "    })();\n",
              "  </script>\n",
              "</div>\n",
              "\n",
              "  <div id=\"id_f75afbaa-b3ff-45c4-a730-d4d128b754b5\">\n",
              "    <style>\n",
              "      .colab-df-generate {\n",
              "        background-color: #E8F0FE;\n",
              "        border: none;\n",
              "        border-radius: 50%;\n",
              "        cursor: pointer;\n",
              "        display: none;\n",
              "        fill: #1967D2;\n",
              "        height: 32px;\n",
              "        padding: 0 0 0 0;\n",
              "        width: 32px;\n",
              "      }\n",
              "\n",
              "      .colab-df-generate:hover {\n",
              "        background-color: #E2EBFA;\n",
              "        box-shadow: 0px 1px 2px rgba(60, 64, 67, 0.3), 0px 1px 3px 1px rgba(60, 64, 67, 0.15);\n",
              "        fill: #174EA6;\n",
              "      }\n",
              "\n",
              "      [theme=dark] .colab-df-generate {\n",
              "        background-color: #3B4455;\n",
              "        fill: #D2E3FC;\n",
              "      }\n",
              "\n",
              "      [theme=dark] .colab-df-generate:hover {\n",
              "        background-color: #434B5C;\n",
              "        box-shadow: 0px 1px 3px 1px rgba(0, 0, 0, 0.15);\n",
              "        filter: drop-shadow(0px 1px 2px rgba(0, 0, 0, 0.3));\n",
              "        fill: #FFFFFF;\n",
              "      }\n",
              "    </style>\n",
              "    <button class=\"colab-df-generate\" onclick=\"generateWithVariable('df_fourth_2B')\"\n",
              "            title=\"Generate code using this dataframe.\"\n",
              "            style=\"display:none;\">\n",
              "\n",
              "  <svg xmlns=\"http://www.w3.org/2000/svg\" height=\"24px\"viewBox=\"0 0 24 24\"\n",
              "       width=\"24px\">\n",
              "    <path d=\"M7,19H8.4L18.45,9,17,7.55,7,17.6ZM5,21V16.75L18.45,3.32a2,2,0,0,1,2.83,0l1.4,1.43a1.91,1.91,0,0,1,.58,1.4,1.91,1.91,0,0,1-.58,1.4L9.25,21ZM18.45,9,17,7.55Zm-12,3A5.31,5.31,0,0,0,4.9,8.1,5.31,5.31,0,0,0,1,6.5,5.31,5.31,0,0,0,4.9,4.9,5.31,5.31,0,0,0,6.5,1,5.31,5.31,0,0,0,8.1,4.9,5.31,5.31,0,0,0,12,6.5,5.46,5.46,0,0,0,6.5,12Z\"/>\n",
              "  </svg>\n",
              "    </button>\n",
              "    <script>\n",
              "      (() => {\n",
              "      const buttonEl =\n",
              "        document.querySelector('#id_f75afbaa-b3ff-45c4-a730-d4d128b754b5 button.colab-df-generate');\n",
              "      buttonEl.style.display =\n",
              "        google.colab.kernel.accessAllowed ? 'block' : 'none';\n",
              "\n",
              "      buttonEl.onclick = () => {\n",
              "        google.colab.notebook.generateWithVariable('df_fourth_2B');\n",
              "      }\n",
              "      })();\n",
              "    </script>\n",
              "  </div>\n",
              "\n",
              "    </div>\n",
              "  </div>\n"
            ]
          },
          "metadata": {},
          "execution_count": 11
        }
      ]
    },
    {
      "cell_type": "code",
      "source": [
        "triplet = note.Note('B4')\n",
        "triplet.duration = duration.Duration(1.0/3.0)\n",
        "\n",
        "tripletes = note.Rest()\n",
        "tripletes.duration = duration.Duration(1.0/3.0)\n",
        "\n",
        "triplettriplet = note.Note('B4')\n",
        "triplettriplet.duration = duration.Duration(2.0/3.0)\n",
        "\n",
        "triplettripletes = note.Rest()\n",
        "triplettripletes.duration = duration.Duration(2.0/3.0)\n",
        "\n",
        "q = note.Note('B4')\n",
        "q.duration.type = 'quarter'\n",
        "\n",
        "qes = note.Rest()\n",
        "qes.duration.type = 'quarter'\n",
        "\n",
        "eight = note.Note('B4')\n",
        "eight.duration = duration.Duration(0.5)\n",
        "\n",
        "eightes = note.Rest()\n",
        "eightes.duration = duration.Duration(0.5)\n",
        "\n",
        "qdot = note.Note('B4')\n",
        "qdot.duration = duration.Duration(1.5)\n",
        "\n",
        "qdotes = note.Rest()\n",
        "qdotes.duration = duration.Duration(1.5)\n",
        "\n",
        "eightdot = note.Note('B4')\n",
        "eightdot.duration = duration.Duration(0.75)\n",
        "\n",
        "eightdotes = note.Rest()\n",
        "eightdotes.duration = duration.Duration(0.75)\n",
        "\n",
        "sixteenth = note.Note('B4')\n",
        "sixteenth.duration = duration.Duration(0.25)\n",
        "\n",
        "sixteenthes = note.Rest()\n",
        "sixteenthes.duration = duration.Duration(0.25)"
      ],
      "metadata": {
        "id": "6SyYvxfoMOyq"
      },
      "execution_count": 12,
      "outputs": []
    },
    {
      "cell_type": "code",
      "source": [
        "def firstbeatcontrol(seviye, opsiyon, ritim_list_tbc):\n",
        "    if (seviye==1 and (ritim_list_tbc[0]==\"S2\")):\n",
        "        first_beat = True\n",
        "    elif (seviye==2 and opsiyon==1 and (ritim_list_tbc[0]==\"T5\" or ritim_list_tbc[0]==\"T6\" or ritim_list_tbc[0]==\"T7\")):\n",
        "        first_beat = True\n",
        "    elif (seviye==2 and opsiyon==2 and (ritim_list_tbc[0]==\"S2\" or ritim_list_tbc[0]==\"S8\" or ritim_list_tbc[0]==\"S9\" or ritim_list_tbc[0]==\"S10\" or ritim_list_tbc[0]==\"S13\" or ritim_list_tbc[0]==\"S14\")):\n",
        "        first_beat = True\n",
        "    else:\n",
        "        first_beat = False\n",
        "\n",
        "    return first_beat"
      ],
      "metadata": {
        "id": "vKcMccapMfvo"
      },
      "execution_count": 13,
      "outputs": []
    },
    {
      "cell_type": "code",
      "source": [
        "def writescoremixed(my_ritim_list, zaman_isareti):\n",
        "\n",
        "    s = stream.Stream()\n",
        "\n",
        "    my_tempo = tempo.MetronomeMark(number = req_tempo)\n",
        "    s.insert(0, my_tempo)\n",
        "    toplam_olcu = int(olcu_sayisi * zaman_isareti)\n",
        "\n",
        "    note_count = 0\n",
        "    for i in range(0, toplam_olcu):\n",
        "        if (my_ritim_list[i] == \"T3\"):\n",
        "            s.repeatAppend(triplet, 3)\n",
        "            s.notes[note_count].duration.tuplets[0].type = 'start'\n",
        "            s.notes[note_count+2].duration.tuplets[0].type = 'stop'\n",
        "            note_count = note_count + 3\n",
        "        elif (my_ritim_list[i] == \"T2\"):\n",
        "            s.repeatAppend(triplettriplet, 1)\n",
        "            s.repeatAppend(triplet, 1)\n",
        "            s.notes[note_count].duration.tuplets[0].type = 'start'\n",
        "            s.notes[note_count+1].duration.tuplets[0].type = 'stop'\n",
        "            note_count = note_count + 2\n",
        "        elif (my_ritim_list[i] == \"T1\"):\n",
        "            s.repeatAppend(q, 1)\n",
        "            note_count = note_count + 1\n",
        "        elif (my_ritim_list[i] == \"T5\"):\n",
        "            s.repeatAppend(tripletes, 1)\n",
        "            s.repeatAppend(triplettriplet, 1)\n",
        "            s.notes[note_count].duration.tuplets[0].type = 'start'\n",
        "            s.notes[note_count].duration.tuplets[0].type = 'stop'\n",
        "            note_count = note_count + 1\n",
        "        elif (my_ritim_list[i] == \"T7\"):\n",
        "            s.repeatAppend(triplettripletes, 1)\n",
        "            s.repeatAppend(triplet, 1)\n",
        "            s.notes[note_count].duration.tuplets[0].type = 'start'\n",
        "            s.notes[note_count].duration.tuplets[0].type = 'stop'\n",
        "            note_count = note_count + 1\n",
        "        elif (my_ritim_list[i] == \"T4\"):\n",
        "            s.repeatAppend(triplet, 1)\n",
        "            s.repeatAppend(triplettriplet, 1)\n",
        "            s.notes[note_count].duration.tuplets[0].type = 'start'\n",
        "            s.notes[note_count+1].duration.tuplets[0].type = 'stop'\n",
        "            note_count = note_count + 2\n",
        "        elif (my_ritim_list[i] == \"T6\"):\n",
        "            s.repeatAppend(tripletes, 1)\n",
        "            s.repeatAppend(triplet, 2)\n",
        "            note_count = note_count + 2\n",
        "        elif (my_ritim_list[i] == \"S1\"):\n",
        "            s.repeatAppend(q, 1)\n",
        "            note_count = note_count + 1\n",
        "        elif (my_ritim_list[i] == \"S2\"):\n",
        "            s.repeatAppend(eightes, 1)\n",
        "            s.repeatAppend(eight, 1)\n",
        "            note_count = note_count + 1\n",
        "        elif (my_ritim_list[i] == \"S3\"):\n",
        "            s.repeatAppend(eight, 2)\n",
        "            note_count = note_count + 2\n",
        "        elif (my_ritim_list[i] == \"S4\"):\n",
        "            s.repeatAppend(eight, 1)\n",
        "            s.repeatAppend(sixteenth, 2)\n",
        "            note_count = note_count + 3\n",
        "        elif (my_ritim_list[i] == \"S5\"):\n",
        "            s.repeatAppend(sixteenth, 2)\n",
        "            s.repeatAppend(eight, 1)\n",
        "            note_count = note_count + 3\n",
        "        elif (my_ritim_list[i] == \"S6\"):\n",
        "            s.repeatAppend(sixteenth, 4)\n",
        "            note_count = note_count + 4\n",
        "        elif (my_ritim_list[i] == \"S14\"):\n",
        "            s.repeatAppend(sixteenthes, 1)\n",
        "            s.repeatAppend(eightdot, 1)\n",
        "            note_count = note_count + 1\n",
        "        elif (my_ritim_list[i] == \"S13\"):\n",
        "            s.repeatAppend(eightdotes, 1)\n",
        "            s.repeatAppend(sixteenth, 1)\n",
        "            note_count = note_count + 1\n",
        "        elif (my_ritim_list[i] == \"S11\"):\n",
        "            s.repeatAppend(sixteenth, 1)\n",
        "            s.repeatAppend(eightdot, 1)\n",
        "            note_count = note_count + 2\n",
        "        elif (my_ritim_list[i] == \"S7\"):\n",
        "            s.repeatAppend(eightdot, 1)\n",
        "            s.repeatAppend(sixteenth, 1)\n",
        "            note_count = note_count + 2\n",
        "        elif (my_ritim_list[i] == \"S8\"):\n",
        "            s.repeatAppend(sixteenthes, 1)\n",
        "            s.repeatAppend(sixteenth, 1)\n",
        "            s.repeatAppend(eight, 1)\n",
        "            note_count = note_count + 2\n",
        "        elif (my_ritim_list[i] == \"S9\"):\n",
        "            s.repeatAppend(sixteenthes, 1)\n",
        "            s.repeatAppend(eight, 1)\n",
        "            s.repeatAppend(sixteenth, 1)\n",
        "            note_count = note_count + 2\n",
        "        elif (my_ritim_list[i] == \"S10\"):\n",
        "            s.repeatAppend(eightes, 1)\n",
        "            s.repeatAppend(sixteenth, 2)\n",
        "            note_count = note_count + 2\n",
        "        elif (my_ritim_list[i] == \"S12\"):\n",
        "            s.repeatAppend(sixteenth, 1)\n",
        "            s.repeatAppend(eight, 1)\n",
        "            s.repeatAppend(sixteenth, 1)\n",
        "            note_count = note_count + 3\n",
        "\n",
        "    return s"
      ],
      "metadata": {
        "id": "4PTF0-zEM4Nc"
      },
      "execution_count": 14,
      "outputs": []
    },
    {
      "cell_type": "code",
      "source": [
        "req_tempo = 70\n",
        "seviye = 1 # 1: Triplet, #2: Straight, #3: Triplet&Straight\n",
        "opsiyon = 1   # 1: T1-T3, S1-S6  #2\n",
        "olcu_sayisi = 2\n",
        "zaman_isareti = 4"
      ],
      "metadata": {
        "id": "eeOtxNSP1D7y"
      },
      "execution_count": 15,
      "outputs": []
    },
    {
      "cell_type": "code",
      "source": [
        "def calculateritm_ops12(seviye, opsiyon, olcu_sayisi,zaman_isareti):\n",
        "\n",
        "    if (seviye==1 and opsiyon==1):\n",
        "        my_ritmtable = df_triplet_1A\n",
        "        ritim_table = 0\n",
        "    elif (seviye==1 and opsiyon==2):\n",
        "        my_ritmtable = df_fourth_1B\n",
        "        ritim_table = 1\n",
        "    elif (seviye==2 and opsiyon==1):\n",
        "        my_ritmtable = df_triplet_2A\n",
        "        ritim_table = 0\n",
        "    elif (seviye==2 and opsiyon==2):\n",
        "        my_ritmtable = df_fourth_2B\n",
        "        ritim_table = 1\n",
        "\n",
        "    olcu_zamani = zaman_isareti\n",
        "    zorluk_derecesi_ust = 15\n",
        "    zorluk_derecesi_alt = 9\n",
        "    toplam_olcu = olcu_sayisi * olcu_zamani\n",
        "    final_ritm_count = 3\n",
        "\n",
        "    deneme  = 0\n",
        "    Q_total = 0\n",
        "    ritm_count = 1\n",
        "\n",
        "    while ((Q_total>=zorluk_derecesi_ust or Q_total<=zorluk_derecesi_alt) or final_ritm_count>=3):\n",
        "\n",
        "        final_ritm_count = 0\n",
        "        Q_total = 0\n",
        "        ritm_count = 1\n",
        "        deneme +=1\n",
        "        my_ritim = \"\"\n",
        "        my_ritim_list = []\n",
        "        temp_ritm =\"\";\n",
        "\n",
        "        for i in range(toplam_olcu):\n",
        "            if (ritim_table==0):\n",
        "                ritim = randint(0, len(my_ritmtable)-1)\n",
        "                my_ritim = my_ritim + my_ritmtable.iat[ritim, 4] + \" \"\n",
        "                my_ritim_list.append(my_ritmtable.iat[ritim, 4])\n",
        "                Q_total += my_ritmtable.iat[ritim, 5]\n",
        "                if (temp_ritm==my_ritmtable.iat[ritim, 4]):\n",
        "                    ritm_count +=1\n",
        "                    if ritm_count>=final_ritm_count:\n",
        "                        final_ritm_count = ritm_count\n",
        "                else:\n",
        "                    ritm_count = 1\n",
        "                    temp_ritm = my_ritmtable.iat[ritim, 4]\n",
        "            elif (ritim_table==1):\n",
        "                ritim = randint(0, len(my_ritmtable)-1)\n",
        "                my_ritim = my_ritim + my_ritmtable.iat[ritim, 5] + \" \"\n",
        "                my_ritim_list.append(my_ritmtable.iat[ritim, 5])\n",
        "                Q_total += my_ritmtable.iat[ritim, 6]\n",
        "                if (temp_ritm==my_ritmtable.iat[ritim, 5]):\n",
        "                    ritm_count +=1\n",
        "                    if(ritm_count>=final_ritm_count):\n",
        "                        final_ritm_count = ritm_count\n",
        "                else:\n",
        "                    ritm_count = 1\n",
        "                    temp_ritm = my_ritmtable.iat[ritim, 5]\n",
        "\n",
        "    return my_ritim_list"
      ],
      "metadata": {
        "id": "g6qwRqnZMRX6"
      },
      "execution_count": 16,
      "outputs": []
    },
    {
      "cell_type": "code",
      "source": [
        "def calculateritm_sev15(opsiyon, olcu_sayisi, zaman_isareti):\n",
        "\n",
        "\n",
        "    olcu_zamani = zaman_isareti\n",
        "    zorluk_derecesi_ust = 15\n",
        "    zorluk_derecesi_alt = 9\n",
        "    toplam_olcu = int(olcu_sayisi * zaman_isareti / 2)\n",
        "    final_ritm_count = 3\n",
        "    deneme  = 0\n",
        "    Q_total = 0\n",
        "    ritm_count = 1\n",
        "\n",
        "    while ((Q_total>=zorluk_derecesi_ust or Q_total<=zorluk_derecesi_alt) or final_ritm_count>=3):\n",
        "      final_ritm_count = 0\n",
        "      Q_total = 0\n",
        "      ritm_count = 1\n",
        "      deneme +=1\n",
        "      my_ritim = \"\"\n",
        "      my_ritim_list = []\n",
        "      temp_ritm =\"\"\n",
        "\n",
        "      if opsiyon==1:\n",
        "        my_ritmtable = df_triplet_1A\n",
        "        ritim_table = 0\n",
        "      if opsiyon==2:\n",
        "        my_ritmtable = df_fourth_1B\n",
        "        ritim_table = 1\n",
        "\n",
        "      for i in range(toplam_olcu):\n",
        "        if (ritim_table==0):\n",
        "          ritim = randint(0, len(my_ritmtable)-1)\n",
        "          my_ritim = my_ritim + my_ritmtable.iat[ritim, 4] + \" \"\n",
        "          my_ritim_list.append(my_ritmtable.iat[ritim, 4])\n",
        "          Q_total += my_ritmtable.iat[ritim, 5]\n",
        "          if (temp_ritm==my_ritmtable.iat[ritim, 4]):\n",
        "            ritm_count +=1\n",
        "            if ritm_count>=final_ritm_count:\n",
        "              final_ritm_count = ritm_count\n",
        "            else:\n",
        "              ritm_count = 1\n",
        "              temp_ritm = my_ritmtable.iat[ritim, 4]\n",
        "        elif (ritim_table==1):\n",
        "          ritim = randint(0, len(my_ritmtable)-1)\n",
        "          my_ritim = my_ritim + my_ritmtable.iat[ritim, 5] + \" \"\n",
        "          my_ritim_list.append(my_ritmtable.iat[ritim, 5])\n",
        "          Q_total += my_ritmtable.iat[ritim, 6]\n",
        "          if (temp_ritm==my_ritmtable.iat[ritim, 5]):\n",
        "            ritm_count +=1\n",
        "            if(ritm_count>=final_ritm_count):\n",
        "              final_ritm_count = ritm_count\n",
        "            else:\n",
        "              ritm_count = 1\n",
        "              temp_ritm = my_ritmtable.iat[ritim, 5]\n",
        "\n",
        "      if opsiyon==1:\n",
        "        my_ritmtable = df_triplet_2A\n",
        "        ritim_table = 0\n",
        "      if opsiyon==2:\n",
        "        my_ritmtable = df_fourth_2B\n",
        "        ritim_table = 1\n",
        "\n",
        "      for i in range(toplam_olcu):\n",
        "        if (ritim_table==0):\n",
        "          ritim = randint(0, len(my_ritmtable)-1)\n",
        "          my_ritim = my_ritim + my_ritmtable.iat[ritim, 4] + \" \"\n",
        "          my_ritim_list.append(my_ritmtable.iat[ritim, 4])\n",
        "          Q_total += my_ritmtable.iat[ritim, 5]\n",
        "          if (temp_ritm==my_ritmtable.iat[ritim, 4]):\n",
        "            ritm_count +=1\n",
        "            if ritm_count>=final_ritm_count:\n",
        "              final_ritm_count = ritm_count\n",
        "            else:\n",
        "              ritm_count = 1\n",
        "              temp_ritm = my_ritmtable.iat[ritim, 4]\n",
        "        elif (ritim_table==1):\n",
        "          ritim = randint(0, len(my_ritmtable)-1)\n",
        "          my_ritim = my_ritim + my_ritmtable.iat[ritim, 5] + \" \"\n",
        "          my_ritim_list.append(my_ritmtable.iat[ritim, 5])\n",
        "          Q_total += my_ritmtable.iat[ritim, 6]\n",
        "          if (temp_ritm==my_ritmtable.iat[ritim, 5]):\n",
        "            ritm_count +=1\n",
        "            if(ritm_count>=final_ritm_count):\n",
        "              final_ritm_count = ritm_count\n",
        "            else:\n",
        "              ritm_count = 1\n",
        "              temp_ritm = my_ritmtable.iat[ritim, 5]\n",
        "\n",
        "\n",
        "    return my_ritim_list"
      ],
      "metadata": {
        "id": "qTQZzl34Mx1y"
      },
      "execution_count": 17,
      "outputs": []
    },
    {
      "cell_type": "code",
      "source": [
        "def calculateritm_ops3(seviye, olcu_sayisi, zaman_isareti):\n",
        "\n",
        "    olcu_zamani = zaman_isareti\n",
        "    zorluk_derecesi_ust = 15\n",
        "    zorluk_derecesi_alt = 9\n",
        "    toplam_olcu = olcu_sayisi * olcu_zamani\n",
        "    final_ritm_count = 3\n",
        "\n",
        "    if (seviye==1):\n",
        "        my_ritmtable_1 = df_triplet_1A\n",
        "        my_ritmtable_2 = df_fourth_1B\n",
        "    elif (seviye==2):\n",
        "        my_ritmtable_1 = df_triplet_2A\n",
        "        my_ritmtable_2 = df_fourth_2B\n",
        "\n",
        "    deneme  = 0\n",
        "    Q_total = 0\n",
        "    ritm_count = 1\n",
        "\n",
        "    while ((Q_total>=zorluk_derecesi_ust or Q_total<=zorluk_derecesi_alt) or final_ritm_count>=3):\n",
        "        final_ritm_count = 0\n",
        "        Q_total = 0\n",
        "        ritm_count = 1\n",
        "        deneme +=1\n",
        "        my_ritim = \"\"\n",
        "        my_ritim_list = []\n",
        "        temp_ritm =\"\";\n",
        "        for i in range(toplam_olcu):\n",
        "            if(randint(0,1)==0):\n",
        "                my_ritmtable = my_ritmtable_1\n",
        "                ritim_table = 0\n",
        "            else:\n",
        "                my_ritmtable = my_ritmtable_2\n",
        "                ritim_table = 1\n",
        "            if (ritim_table==0):\n",
        "                ritim = randint(0, len(my_ritmtable)-1)\n",
        "                my_ritim = my_ritim + my_ritmtable.iat[ritim, 4] + \" \"\n",
        "                my_ritim_list.append(my_ritmtable.iat[ritim, 4])\n",
        "                Q_total += my_ritmtable.iat[ritim, 5]\n",
        "                if (temp_ritm==my_ritmtable.iat[ritim, 4]):\n",
        "                    ritm_count +=1\n",
        "                    if ritm_count>=final_ritm_count:\n",
        "                        final_ritm_count = ritm_count\n",
        "                else:\n",
        "                    ritm_count = 1\n",
        "                    temp_ritm = my_ritmtable.iat[ritim, 4]\n",
        "            elif (ritim_table==1):\n",
        "                ritim = randint(0, len(my_ritmtable)-1)\n",
        "                my_ritim = my_ritim + my_ritmtable.iat[ritim, 5] + \" \"\n",
        "                my_ritim_list.append(my_ritmtable.iat[ritim, 5])\n",
        "                Q_total += my_ritmtable.iat[ritim, 6]\n",
        "                if (temp_ritm==my_ritmtable.iat[ritim, 5]):\n",
        "                    ritm_count +=1\n",
        "                    if(ritm_count>=final_ritm_count):\n",
        "                        final_ritm_count = ritm_count\n",
        "                else:\n",
        "                    ritm_count = 1\n",
        "                    temp_ritm = my_ritmtable.iat[ritim, 5]\n",
        "\n",
        "    return my_ritim_list"
      ],
      "metadata": {
        "id": "AIPltQqSMWjU"
      },
      "execution_count": 18,
      "outputs": []
    },
    {
      "cell_type": "code",
      "source": [
        "def table_scores(my_ritm_list):\n",
        "\n",
        "    table_Q = 0\n",
        "    table_WNBD = 0\n",
        "    table_Pressing = 0\n",
        "\n",
        "    for i in range(len(my_ritm_list)):\n",
        "      triple_or_straigth = re.split(r'(\\d+)', my_ritm_list[i])[0]\n",
        "      if(triple_or_straigth==\"T\"):\n",
        "        my_ritmtable = df_triplet_2A\n",
        "      elif(triple_or_straigth==\"S\"):\n",
        "        my_ritmtable = df_fourth_2B\n",
        "\n",
        "      table_Q = table_Q + my_ritmtable.loc[my_ritm_list[i], \"Q\"]\n",
        "      table_WNBD = table_WNBD + my_ritmtable.loc[my_ritm_list[i], \"WNBD\"]\n",
        "      if(triple_or_straigth==\"S\"):\n",
        "        table_Pressing = table_Pressing + my_ritmtable.loc[my_ritm_list[i], \"Pressing\"]\n",
        "\n",
        "    print(\"Total Q: \", table_Q)\n",
        "    print(\"Total WNBD: \", table_WNBD)\n",
        "    print(\"Total Pressing: \", table_Pressing)\n",
        "    print(\"Total WNBD/Q {:.2f}\".format(table_WNBD/table_Q))\n",
        "\n",
        "    return table_Q, table_WNBD, table_Pressing, table_WNBD/table_Q"
      ],
      "metadata": {
        "id": "G9ZcH41AMmzg"
      },
      "execution_count": 19,
      "outputs": []
    },
    {
      "cell_type": "code",
      "source": [
        "my_ritm_list = ['T1', 'T1', 'T3', 'T1', 'T3', 'T5', 'T1', 'T1']\n",
        "\n",
        "table_scores(my_ritm_list)"
      ],
      "metadata": {
        "colab": {
          "base_uri": "https://localhost:8080/"
        },
        "id": "YaVK0winDs9r",
        "outputId": "8d49bf92-f9f0-4dbe-c75f-59db2851e2e2"
      },
      "execution_count": 20,
      "outputs": [
        {
          "output_type": "stream",
          "name": "stdout",
          "text": [
            "Total Q:  12\n",
            "Total WNBD:  15\n",
            "Total Pressing:  0\n",
            "Total WNBD/Q 1.25\n"
          ]
        },
        {
          "output_type": "execute_result",
          "data": {
            "text/plain": [
              "(12, 15, 0, 1.25)"
            ]
          },
          "metadata": {},
          "execution_count": 20
        }
      ]
    },
    {
      "cell_type": "code",
      "source": [
        "calculateritm_ops3(1, olcu_sayisi, zaman_isareti)"
      ],
      "metadata": {
        "colab": {
          "base_uri": "https://localhost:8080/"
        },
        "id": "YU0klVKkHcSx",
        "outputId": "d4e007e1-34cb-454a-fcec-3361700edb61"
      },
      "execution_count": 21,
      "outputs": [
        {
          "output_type": "execute_result",
          "data": {
            "text/plain": [
              "['T1', 'S1', 'T1', 'T1', 'T2', 'T3', 'S3', 'T3']"
            ]
          },
          "metadata": {},
          "execution_count": 21
        }
      ]
    },
    {
      "cell_type": "code",
      "source": [
        "seviye = 1.5\n",
        "opsiyon = 2\n",
        "\n",
        "if(seviye==1 or seviye==2):\n",
        "  if((opsiyon==1) or (opsiyon==2)):\n",
        "    ritim_list = calculateritm_ops12(seviye, opsiyon, olcu_sayisi, zaman_isareti)\n",
        "  elif (opsiyon==3) :\n",
        "    ritim_list = calculateritm_ops3(seviye,  olcu_sayisi, zaman_isareti)\n",
        "elif(seviye==1.5):\n",
        "  ritim_list = calculateritm_sev15(opsiyon, olcu_sayisi, zaman_isareti)\n",
        "\n",
        "\n",
        "print(ritim_list)\n",
        "s = writescoremixed(ritim_list, zaman_isareti)\n",
        "s.show()\n",
        "\n",
        "s.write('musicxml.png')\n",
        "fname = f\"Ritim_Seviye_{seviye}_Opsiyon_{opsiyon}_{121:0=2d}.pdf\"\n",
        "s.write(\"musicxml.pdf\", fp=fname)\n",
        "#my_image = Image(filename=s.write(\"lily.png\"))\n",
        "#display(my_image)\n",
        "\n",
        "table_scores(ritim_list)\n",
        "\n",
        "#with open(\"aaaa.png\", 'wb') as f:\n",
        "#  f.write(my_image.data)"
      ],
      "metadata": {
        "colab": {
          "base_uri": "https://localhost:8080/",
          "height": 188
        },
        "id": "YqoPOVV6MUsf",
        "outputId": "6f3d988a-3eaa-41ba-fa94-1b1a6dbe9635"
      },
      "execution_count": 49,
      "outputs": [
        {
          "output_type": "stream",
          "name": "stdout",
          "text": [
            "['S1', 'S1', 'S1', 'S5', 'S8', 'S8', 'S2', 'S5']\n"
          ]
        },
        {
          "output_type": "display_data",
          "data": {
            "image/png": "[encoded data removed]",
            "text/plain": [
              "<IPython.core.display.Image object>"
            ]
          },
          "metadata": {
            "image/png": {
              "width": 748,
              "height": 62
            }
          }
        },
        {
          "output_type": "stream",
          "name": "stdout",
          "text": [
            "Total Q:  14\n",
            "Total WNBD:  26\n",
            "Total Pressing:  20.5\n",
            "Total WNBD/Q 1.86\n"
          ]
        },
        {
          "output_type": "execute_result",
          "data": {
            "text/plain": [
              "(14, 26, 20.5, 1.8571428571428572)"
            ]
          },
          "metadata": {},
          "execution_count": 49
        }
      ]
    },
    {
      "cell_type": "code",
      "source": [
        "len(s)"
      ],
      "metadata": {
        "colab": {
          "base_uri": "https://localhost:8080/"
        },
        "id": "GniBlkdyTYxQ",
        "outputId": "2d7d7fe8-bbb2-454e-f5a4-2c332e173de2"
      },
      "execution_count": 79,
      "outputs": [
        {
          "output_type": "execute_result",
          "data": {
            "text/plain": [
              "19"
            ]
          },
          "metadata": {},
          "execution_count": 79
        }
      ]
    },
    {
      "cell_type": "code",
      "source": [
        "# Mixed Son\n",
        "\n",
        "seviye = 1.5\n",
        "opsiyon = 2\n",
        "\n",
        "\n",
        "pdf = FPDF()\n",
        "pdf.add_page()\n",
        "pdf.set_font(\"Arial\", size = 15)\n",
        "\n",
        "pdf.cell(200, 10, txt = f\"Seviye {seviye} , Opsiyon: {opsiyon}\", ln = 1, align = 'C')\n",
        "pdf.cell(200, 10, \"\", ln=2, align = 'L')\n",
        "ritim_lists = []\n",
        "\n",
        "number_of_samples = 50\n",
        "\n",
        "for i in range(number_of_samples):\n",
        "  first_beat = True\n",
        "  while(first_beat):\n",
        "    if(seviye==1 or seviye==2):\n",
        "      if((opsiyon==1) or (opsiyon==2)):\n",
        "        ritim_list = calculateritm_ops12(seviye, opsiyon, olcu_sayisi,zaman_isareti)\n",
        "      elif (opsiyon==3) :\n",
        "        ritim_list = calculateritm_ops3(seviye,  olcu_sayisi,zaman_isareti)\n",
        "    elif(seviye==1.5):\n",
        "      ritim_list = calculateritm_sev15(opsiyon, olcu_sayisi, zaman_isareti)\n",
        "\n",
        "    first_beat = firstbeatcontrol(seviye, opsiyon, ritim_list)\n",
        "\n",
        "  print(\"ritim_list\", ritim_list)\n",
        "\n",
        "  s = writescoremixed(ritim_list, zaman_isareti)\n",
        "\n",
        "  if(zaman_isareti==3):\n",
        "   s.insert(0, meter.TimeSignature('3/4'))\n",
        "  elif(zaman_isareti==4):\n",
        "    s.insert(0, meter.TimeSignature('4/4'))\n",
        "  elif(zaman_isareti==5):\n",
        "    s.insert(0, meter.TimeSignature('5/4'))\n",
        "\n",
        "  s.show()\n",
        "\n",
        "\n",
        "  ritim_lists.append(ritim_list)\n",
        "  s.write('musicxml.png')\n",
        "  fname = f\"Ritim_Seviye_{seviye}_Opsiyon_{opsiyon}_{(i+1):0=2d}.pdf\"\n",
        "  s.write(\"musicxml.pdf\", fp=fname)\n",
        "\n",
        "  sToStr = \"-\".join([str(elem) for elem in ritim_list])\n",
        "  sToStr = str(i+1) + \": \" + sToStr\n",
        "  table_Q, table_WNBD, table_Pressing, table_WNBDQratio  = table_scores(ritim_list)\n",
        "  pdf.cell(200, 10, txt = sToStr, ln = 2, align = 'L')\n",
        "  #pdf.cell(200, 10, \"\", ln=2, align = 'L')\n",
        "  sToStr = \"Q: \" + str(table_Q) + \"  WNBD: \"  + str(table_WNBD)  + \" WNBD/Q: \" + str(\"{:.2f}\".format(table_WNBD/table_Q))  +  \" Pressing: \" + str(\"{:.2f}\".format(table_Pressing))\n",
        "  pdf.cell(200, 10, txt = sToStr, ln = 2, align = 'L')\n",
        "  #pdf.cell(200, 10, \"\", ln=2, align = 'L')\n",
        "  #pdf.cell(200, 10, \"\", ln=2, align = 'L')\n",
        "  #pdf.cell(200, 10, \"\", ln=2, align = 'L')\n",
        "\n",
        "\n",
        "  #  mf = midi.translate.streamToMidiFile(s)\n",
        "    #mf.ticksPerQuarterNote = 512\n",
        "  #  midifile_name = f\"midi_seviye_1.5_opsiyon{my_opsiyon}_{i:0=2d}.mid\"\n",
        "  #  mf.open(midifile_name, 'wb')\n",
        "  #  mf.write()\n",
        "  #  mf.close()\n",
        "\n",
        "  #\n",
        "\n",
        "  #my_image = Image(str(s.write('lily.png')))\n",
        "  #filename=c.write('lily.png')\n",
        "  #Image(filename)\n",
        "\n",
        "    #display(my_image)\n",
        "  #pngfile_name = f\"Ritm_Seviye_{seviye}_Opsiyon_{opsiyon}_{(i+1):0=2d}.png\"\n",
        "\n",
        "  #my_image = Image(filename=s.write(\"lily.png\"))\n",
        "  #my_image = Image(str(s.write('lily.png')))\n",
        "\n",
        "  #with open(pngfile_name, 'wb') as f:\n",
        "  #  f.write(my_image.data)\n",
        "\n",
        "  #print(\"Y\",i,90 + (i%5) * 50 )\n",
        "  #pdf.image(pngfile_name, x=20, y=40 + ((i+1)%5) * 50, w=100)\n",
        "\n",
        "fname_all = f\"RitimmAll_Seviye_{seviye}_Opsiyon_{opsiyon}.pdf\"\n",
        "pdf.output(fname_all)"
      ],
      "metadata": {
        "colab": {
          "base_uri": "https://localhost:8080/",
          "height": 1000
        },
        "id": "6hE8THPWNIBp",
        "outputId": "f79b6d87-d231-4880-ae7a-db2fae1c2531"
      },
      "execution_count": 58,
      "outputs": [
        {
          "output_type": "stream",
          "name": "stdout",
          "text": [
            "ritim_list ['S1', 'S2', 'S3', 'S2', 'S10', 'S7', 'S6', 'S14']\n"
          ]
        },
        {
          "output_type": "display_data",
          "data": {
            "image/png": "[encoded data removed]",
            "text/plain": [
              "<IPython.core.display.Image object>"
            ]
          },
          "metadata": {
            "image/png": {
              "width": 748,
              "height": 62
            }
          }
        },
        {
          "output_type": "stream",
          "name": "stdout",
          "text": [
            "Total Q:  14\n",
            "Total WNBD:  30\n",
            "Total Pressing:  30.5\n",
            "Total WNBD/Q 2.14\n",
            "ritim_list ['S1', 'S1', 'S2', 'S2', 'S9', 'S3', 'S13', 'S13']\n"
          ]
        },
        {
          "output_type": "display_data",
          "data": {
            "image/png": "[encoded data removed]",
            "text/plain": [
              "<IPython.core.display.Image object>"
            ]
          },
          "metadata": {
            "image/png": {
              "width": 748,
              "height": 62
            }
          }
        },
        {
          "output_type": "stream",
          "name": "stdout",
          "text": [
            "Total Q:  10\n",
            "Total WNBD:  22\n",
            "Total Pressing:  37.0\n",
            "Total WNBD/Q 2.20\n",
            "ritim_list ['S1', 'S4', 'S1', 'S4', 'S10', 'S10', 'S2', 'S1']\n"
          ]
        },
        {
          "output_type": "display_data",
          "data": {
            "image/png": "[encoded data removed]",
            "text/plain": [
              "<IPython.core.display.Image object>"
            ]
          },
          "metadata": {
            "image/png": {
              "width": 748,
              "height": 62
            }
          }
        },
        {
          "output_type": "stream",
          "name": "stdout",
          "text": [
            "Total Q:  14\n",
            "Total WNBD:  26\n",
            "Total Pressing:  27.5\n",
            "Total WNBD/Q 1.86\n",
            "ritim_list ['S1', 'S3', 'S4', 'S1', 'S7', 'S11', 'S1', 'S1']\n"
          ]
        },
        {
          "output_type": "display_data",
          "data": {
            "image/png": "[encoded data removed]",
            "text/plain": [
              "<IPython.core.display.Image object>"
            ]
          },
          "metadata": {
            "image/png": {
              "width": 748,
              "height": 62
            }
          }
        },
        {
          "output_type": "stream",
          "name": "stdout",
          "text": [
            "Total Q:  13\n",
            "Total WNBD:  16\n",
            "Total Pressing:  13.5\n",
            "Total WNBD/Q 1.23\n",
            "ritim_list ['S5', 'S5', 'S2', 'S1', 'S2', 'S14', 'S8', 'S14']\n"
          ]
        },
        {
          "output_type": "display_data",
          "data": {
            "image/png": "[encoded data removed]",
            "text/plain": [
              "<IPython.core.display.Image object>"
            ]
          },
          "metadata": {
            "image/png": {
              "width": 748,
              "height": 63
            }
          }
        },
        {
          "output_type": "stream",
          "name": "stdout",
          "text": [
            "Total Q:  13\n",
            "Total WNBD:  30\n",
            "Total Pressing:  34.5\n",
            "Total WNBD/Q 2.31\n",
            "ritim_list ['S2', 'S5', 'S1', 'S2', 'S11', 'S9', 'S1', 'S9']\n"
          ]
        },
        {
          "output_type": "display_data",
          "data": {
            "image/png": "[encoded data removed]",
            "text/plain": [
              "<IPython.core.display.Image object>"
            ]
          },
          "metadata": {
            "image/png": {
              "width": 748,
              "height": 60
            }
          }
        },
        {
          "output_type": "stream",
          "name": "stdout",
          "text": [
            "Total Q:  13\n",
            "Total WNBD:  30\n",
            "Total Pressing:  34.5\n",
            "Total WNBD/Q 2.31\n",
            "ritim_list ['S1', 'S5', 'S2', 'S2', 'S10', 'S9', 'S3', 'S14']\n"
          ]
        },
        {
          "output_type": "display_data",
          "data": {
            "image/png": "[encoded data removed]",
            "text/plain": [
              "<IPython.core.display.Image object>"
            ]
          },
          "metadata": {
            "image/png": {
              "width": 748,
              "height": 62
            }
          }
        },
        {
          "output_type": "stream",
          "name": "stdout",
          "text": [
            "Total Q:  13\n",
            "Total WNBD:  30\n",
            "Total Pressing:  36.0\n",
            "Total WNBD/Q 2.31\n",
            "ritim_list ['S1', 'S1', 'S5', 'S1', 'S1', 'S5', 'S12', 'S13']\n"
          ]
        },
        {
          "output_type": "display_data",
          "data": {
            "image/png": "[encoded data removed]",
            "text/plain": [
              "<IPython.core.display.Image object>"
            ]
          },
          "metadata": {
            "image/png": {
              "width": 748,
              "height": 62
            }
          }
        },
        {
          "output_type": "stream",
          "name": "stdout",
          "text": [
            "Total Q:  14\n",
            "Total WNBD:  24\n",
            "Total Pressing:  14.0\n",
            "Total WNBD/Q 1.71\n",
            "ritim_list ['S2', 'S2', 'S2', 'S3', 'S3', 'S13', 'S1', 'S4']\n"
          ]
        },
        {
          "output_type": "display_data",
          "data": {
            "image/png": "[encoded data removed]",
            "text/plain": [
              "<IPython.core.display.Image object>"
            ]
          },
          "metadata": {
            "image/png": {
              "width": 748,
              "height": 60
            }
          }
        },
        {
          "output_type": "stream",
          "name": "stdout",
          "text": [
            "Total Q:  12\n",
            "Total WNBD:  20\n",
            "Total Pressing:  31.5\n",
            "Total WNBD/Q 1.67\n",
            "ritim_list ['S1', 'S2', 'S1', 'S5', 'S12', 'S10', 'S2', 'S2']\n"
          ]
        },
        {
          "output_type": "display_data",
          "data": {
            "image/png": "[encoded data removed]",
            "text/plain": [
              "<IPython.core.display.Image object>"
            ]
          },
          "metadata": {
            "image/png": {
              "width": 748,
              "height": 62
            }
          }
        },
        {
          "output_type": "stream",
          "name": "stdout",
          "text": [
            "Total Q:  13\n",
            "Total WNBD:  26\n",
            "Total Pressing:  27.5\n",
            "Total WNBD/Q 2.00\n",
            "ritim_list ['S2', 'S2', 'S1', 'S5', 'S3', 'S14', 'S13', 'S14']\n"
          ]
        },
        {
          "output_type": "display_data",
          "data": {
            "image/png": "[encoded data removed]",
            "text/plain": [
              "<IPython.core.display.Image object>"
            ]
          },
          "metadata": {
            "image/png": {
              "width": 748,
              "height": 60
            }
          }
        },
        {
          "output_type": "stream",
          "name": "stdout",
          "text": [
            "Total Q:  11\n",
            "Total WNBD:  24\n",
            "Total Pressing:  35.5\n",
            "Total WNBD/Q 2.18\n",
            "ritim_list ['S1', 'S2', 'S5', 'S1', 'S8', 'S9', 'S8', 'S11']\n"
          ]
        },
        {
          "output_type": "display_data",
          "data": {
            "image/png": "[encoded data removed]",
            "text/plain": [
              "<IPython.core.display.Image object>"
            ]
          },
          "metadata": {
            "image/png": {
              "width": 748,
              "height": 62
            }
          }
        },
        {
          "output_type": "stream",
          "name": "stdout",
          "text": [
            "Total Q:  14\n",
            "Total WNBD:  32\n",
            "Total Pressing:  32.0\n",
            "Total WNBD/Q 2.29\n",
            "ritim_list ['S2', 'S3', 'S5', 'S1', 'S7', 'S8', 'S8', 'S1']\n"
          ]
        },
        {
          "output_type": "display_data",
          "data": {
            "image/png": "[encoded data removed]",
            "text/plain": [
              "<IPython.core.display.Image object>"
            ]
          },
          "metadata": {
            "image/png": {
              "width": 748,
              "height": 60
            }
          }
        },
        {
          "output_type": "stream",
          "name": "stdout",
          "text": [
            "Total Q:  14\n",
            "Total WNBD:  26\n",
            "Total Pressing:  25.0\n",
            "Total WNBD/Q 1.86\n",
            "ritim_list ['S2', 'S2', 'S2', 'S2', 'S13', 'S1', 'S8', 'S9']\n"
          ]
        },
        {
          "output_type": "display_data",
          "data": {
            "image/png": "[encoded data removed]",
            "text/plain": [
              "<IPython.core.display.Image object>"
            ]
          },
          "metadata": {
            "image/png": {
              "width": 748,
              "height": 60
            }
          }
        },
        {
          "output_type": "stream",
          "name": "stdout",
          "text": [
            "Total Q:  10\n",
            "Total WNBD:  26\n",
            "Total Pressing:  46.0\n",
            "Total WNBD/Q 2.60\n",
            "ritim_list ['S2', 'S1', 'S6', 'S2', 'S5', 'S1', 'S1', 'S3']\n"
          ]
        },
        {
          "output_type": "display_data",
          "data": {
            "image/png": "[encoded data removed]",
            "text/plain": [
              "<IPython.core.display.Image object>"
            ]
          },
          "metadata": {
            "image/png": {
              "width": 748,
              "height": 60
            }
          }
        },
        {
          "output_type": "stream",
          "name": "stdout",
          "text": [
            "Total Q:  14\n",
            "Total WNBD:  22\n",
            "Total Pressing:  14.0\n",
            "Total WNBD/Q 1.57\n",
            "ritim_list ['S1', 'S5', 'S3', 'S1', 'S11', 'S7', 'S13', 'S14']\n"
          ]
        },
        {
          "output_type": "display_data",
          "data": {
            "image/png": "[encoded data removed]",
            "text/plain": [
              "<IPython.core.display.Image object>"
            ]
          },
          "metadata": {
            "image/png": {
              "width": 748,
              "height": 62
            }
          }
        },
        {
          "output_type": "stream",
          "name": "stdout",
          "text": [
            "Total Q:  13\n",
            "Total WNBD:  24\n",
            "Total Pressing:  24.0\n",
            "Total WNBD/Q 1.85\n",
            "ritim_list ['S1', 'S5', 'S1', 'S1', 'S8', 'S13', 'S14', 'S4']\n"
          ]
        },
        {
          "output_type": "display_data",
          "data": {
            "image/png": "[encoded data removed]",
            "text/plain": [
              "<IPython.core.display.Image object>"
            ]
          },
          "metadata": {
            "image/png": {
              "width": 748,
              "height": 62
            }
          }
        },
        {
          "output_type": "stream",
          "name": "stdout",
          "text": [
            "Total Q:  13\n",
            "Total WNBD:  26\n",
            "Total Pressing:  28.0\n",
            "Total WNBD/Q 2.00\n",
            "ritim_list ['S5', 'S2', 'S1', 'S2', 'S10', 'S2', 'S13', 'S10']\n"
          ]
        },
        {
          "output_type": "display_data",
          "data": {
            "image/png": "[encoded data removed]",
            "text/plain": [
              "<IPython.core.display.Image object>"
            ]
          },
          "metadata": {
            "image/png": {
              "width": 748,
              "height": 63
            }
          }
        },
        {
          "output_type": "stream",
          "name": "stdout",
          "text": [
            "Total Q:  12\n",
            "Total WNBD:  28\n",
            "Total Pressing:  36.0\n",
            "Total WNBD/Q 2.33\n",
            "ritim_list ['S1', 'S5', 'S2', 'S2', 'S7', 'S1', 'S13', 'S8']\n"
          ]
        },
        {
          "output_type": "display_data",
          "data": {
            "image/png": "[encoded data removed]",
            "text/plain": [
              "<IPython.core.display.Image object>"
            ]
          },
          "metadata": {
            "image/png": {
              "width": 748,
              "height": 62
            }
          }
        },
        {
          "output_type": "stream",
          "name": "stdout",
          "text": [
            "Total Q:  12\n",
            "Total WNBD:  24\n",
            "Total Pressing:  30.5\n",
            "Total WNBD/Q 2.00\n",
            "ritim_list ['S5', 'S1', 'S2', 'S2', 'S14', 'S8', 'S10', 'S10']\n"
          ]
        },
        {
          "output_type": "display_data",
          "data": {
            "image/png": "[encoded data removed]",
            "text/plain": [
              "<IPython.core.display.Image object>"
            ]
          },
          "metadata": {
            "image/png": {
              "width": 748,
              "height": 63
            }
          }
        },
        {
          "output_type": "stream",
          "name": "stdout",
          "text": [
            "Total Q:  13\n",
            "Total WNBD:  32\n",
            "Total Pressing:  37.0\n",
            "Total WNBD/Q 2.46\n",
            "ritim_list ['S2', 'S6', 'S1', 'S2', 'S14', 'S7', 'S7', 'S8']\n"
          ]
        },
        {
          "output_type": "display_data",
          "data": {
            "image/png": "[encoded data removed]",
            "text/plain": [
              "<IPython.core.display.Image object>"
            ]
          },
          "metadata": {
            "image/png": {
              "width": 748,
              "height": 60
            }
          }
        },
        {
          "output_type": "stream",
          "name": "stdout",
          "text": [
            "Total Q:  14\n",
            "Total WNBD:  32\n",
            "Total Pressing:  35.0\n",
            "Total WNBD/Q 2.29\n",
            "ritim_list ['S2', 'S5', 'S1', 'S1', 'S7', 'S10', 'S9', 'S3']\n"
          ]
        },
        {
          "output_type": "display_data",
          "data": {
            "image/png": "[encoded data removed]",
            "text/plain": [
              "<IPython.core.display.Image object>"
            ]
          },
          "metadata": {
            "image/png": {
              "width": 748,
              "height": 60
            }
          }
        },
        {
          "output_type": "stream",
          "name": "stdout",
          "text": [
            "Total Q:  14\n",
            "Total WNBD:  28\n",
            "Total Pressing:  27.5\n",
            "Total WNBD/Q 2.00\n",
            "ritim_list ['S2', 'S2', 'S2', 'S4', 'S8', 'S3', 'S1', 'S14']\n"
          ]
        },
        {
          "output_type": "display_data",
          "data": {
            "image/png": "[encoded data removed]",
            "text/plain": [
              "<IPython.core.display.Image object>"
            ]
          },
          "metadata": {
            "image/png": {
              "width": 748,
              "height": 60
            }
          }
        },
        {
          "output_type": "stream",
          "name": "stdout",
          "text": [
            "Total Q:  12\n",
            "Total WNBD:  24\n",
            "Total Pressing:  37.0\n",
            "Total WNBD/Q 2.00\n",
            "ritim_list ['S3', 'S1', 'S2', 'S2', 'S2', 'S3', 'S7', 'S1']\n"
          ]
        },
        {
          "output_type": "display_data",
          "data": {
            "image/png": "[encoded data removed]",
            "text/plain": [
              "<IPython.core.display.Image object>"
            ]
          },
          "metadata": {
            "image/png": {
              "width": 748,
              "height": 63
            }
          }
        },
        {
          "output_type": "stream",
          "name": "stdout",
          "text": [
            "Total Q:  11\n",
            "Total WNBD:  14\n",
            "Total Pressing:  23.0\n",
            "Total WNBD/Q 1.27\n",
            "ritim_list ['S1', 'S5', 'S5', 'S1', 'S10', 'S14', 'S9', 'S14']\n"
          ]
        },
        {
          "output_type": "display_data",
          "data": {
            "image/png": "[encoded data removed]",
            "text/plain": [
              "<IPython.core.display.Image object>"
            ]
          },
          "metadata": {
            "image/png": {
              "width": 748,
              "height": 62
            }
          }
        },
        {
          "output_type": "stream",
          "name": "stdout",
          "text": [
            "Total Q:  14\n",
            "Total WNBD:  34\n",
            "Total Pressing:  32.5\n",
            "Total WNBD/Q 2.43\n",
            "ritim_list ['S3', 'S3', 'S1', 'S3', 'S2', 'S8', 'S12', 'S2']\n"
          ]
        },
        {
          "output_type": "display_data",
          "data": {
            "image/png": "[encoded data removed]",
            "text/plain": [
              "<IPython.core.display.Image object>"
            ]
          },
          "metadata": {
            "image/png": {
              "width": 748,
              "height": 63
            }
          }
        },
        {
          "output_type": "stream",
          "name": "stdout",
          "text": [
            "Total Q:  14\n",
            "Total WNBD:  24\n",
            "Total Pressing:  25.0\n",
            "Total WNBD/Q 1.71\n",
            "ritim_list ['S1', 'S2', 'S2', 'S1', 'S8', 'S4', 'S9', 'S2']\n"
          ]
        },
        {
          "output_type": "display_data",
          "data": {
            "image/png": "[encoded data removed]",
            "text/plain": [
              "<IPython.core.display.Image object>"
            ]
          },
          "metadata": {
            "image/png": {
              "width": 748,
              "height": 62
            }
          }
        },
        {
          "output_type": "stream",
          "name": "stdout",
          "text": [
            "Total Q:  12\n",
            "Total WNBD:  26\n",
            "Total Pressing:  38.5\n",
            "Total WNBD/Q 2.17\n",
            "ritim_list ['S1', 'S2', 'S3', 'S5', 'S13', 'S2', 'S8', 'S3']\n"
          ]
        },
        {
          "output_type": "display_data",
          "data": {
            "image/png": "[encoded data removed]",
            "text/plain": [
              "<IPython.core.display.Image object>"
            ]
          },
          "metadata": {
            "image/png": {
              "width": 748,
              "height": 62
            }
          }
        },
        {
          "output_type": "stream",
          "name": "stdout",
          "text": [
            "Total Q:  13\n",
            "Total WNBD:  24\n",
            "Total Pressing:  28.0\n",
            "Total WNBD/Q 1.85\n",
            "ritim_list ['S1', 'S4', 'S1', 'S4', 'S2', 'S13', 'S13', 'S7']\n"
          ]
        },
        {
          "output_type": "display_data",
          "data": {
            "image/png": "[encoded data removed]",
            "text/plain": [
              "<IPython.core.display.Image object>"
            ]
          },
          "metadata": {
            "image/png": {
              "width": 748,
              "height": 62
            }
          }
        },
        {
          "output_type": "stream",
          "name": "stdout",
          "text": [
            "Total Q:  13\n",
            "Total WNBD:  26\n",
            "Total Pressing:  36.0\n",
            "Total WNBD/Q 2.00\n",
            "ritim_list ['S3', 'S1', 'S4', 'S2', 'S7', 'S8', 'S2', 'S14']\n"
          ]
        },
        {
          "output_type": "display_data",
          "data": {
            "image/png": "[encoded data removed]",
            "text/plain": [
              "<IPython.core.display.Image object>"
            ]
          },
          "metadata": {
            "image/png": {
              "width": 748,
              "height": 63
            }
          }
        },
        {
          "output_type": "stream",
          "name": "stdout",
          "text": [
            "Total Q:  13\n",
            "Total WNBD:  26\n",
            "Total Pressing:  36.0\n",
            "Total WNBD/Q 2.00\n",
            "ritim_list ['S1', 'S1', 'S6', 'S2', 'S5', 'S7', 'S1', 'S1']\n"
          ]
        },
        {
          "output_type": "display_data",
          "data": {
            "image/png": "[encoded data removed]",
            "text/plain": [
              "<IPython.core.display.Image object>"
            ]
          },
          "metadata": {
            "image/png": {
              "width": 748,
              "height": 62
            }
          }
        },
        {
          "output_type": "stream",
          "name": "stdout",
          "text": [
            "Total Q:  14\n",
            "Total WNBD:  22\n",
            "Total Pressing:  12.0\n",
            "Total WNBD/Q 1.57\n",
            "ritim_list ['S3', 'S1', 'S4', 'S2', 'S7', 'S9', 'S11', 'S1']\n"
          ]
        },
        {
          "output_type": "display_data",
          "data": {
            "image/png": "[encoded data removed]",
            "text/plain": [
              "<IPython.core.display.Image object>"
            ]
          },
          "metadata": {
            "image/png": {
              "width": 748,
              "height": 63
            }
          }
        },
        {
          "output_type": "stream",
          "name": "stdout",
          "text": [
            "Total Q:  14\n",
            "Total WNBD:  26\n",
            "Total Pressing:  29.0\n",
            "Total WNBD/Q 1.86\n",
            "ritim_list ['S3', 'S2', 'S1', 'S1', 'S12', 'S3', 'S10', 'S14']\n"
          ]
        },
        {
          "output_type": "display_data",
          "data": {
            "image/png": "[encoded data removed]",
            "text/plain": [
              "<IPython.core.display.Image object>"
            ]
          },
          "metadata": {
            "image/png": {
              "width": 748,
              "height": 63
            }
          }
        },
        {
          "output_type": "stream",
          "name": "stdout",
          "text": [
            "Total Q:  13\n",
            "Total WNBD:  24\n",
            "Total Pressing:  25.0\n",
            "Total WNBD/Q 1.85\n",
            "ritim_list ['S1', 'S5', 'S2', 'S1', 'S14', 'S1', 'S4', 'S9']\n"
          ]
        },
        {
          "output_type": "display_data",
          "data": {
            "image/png": "[encoded data removed]",
            "text/plain": [
              "<IPython.core.display.Image object>"
            ]
          },
          "metadata": {
            "image/png": {
              "width": 748,
              "height": 62
            }
          }
        },
        {
          "output_type": "stream",
          "name": "stdout",
          "text": [
            "Total Q:  13\n",
            "Total WNBD:  26\n",
            "Total Pressing:  29.5\n",
            "Total WNBD/Q 2.00\n",
            "ritim_list ['S1', 'S3', 'S2', 'S2', 'S13', 'S10', 'S7', 'S12']\n"
          ]
        },
        {
          "output_type": "display_data",
          "data": {
            "image/png": "[encoded data removed]",
            "text/plain": [
              "<IPython.core.display.Image object>"
            ]
          },
          "metadata": {
            "image/png": {
              "width": 748,
              "height": 62
            }
          }
        },
        {
          "output_type": "stream",
          "name": "stdout",
          "text": [
            "Total Q:  13\n",
            "Total WNBD:  28\n",
            "Total Pressing:  34.0\n",
            "Total WNBD/Q 2.15\n",
            "ritim_list ['S3', 'S6', 'S2', 'S1', 'S14', 'S14', 'S1', 'S13']\n"
          ]
        },
        {
          "output_type": "display_data",
          "data": {
            "image/png": "[encoded data removed]",
            "text/plain": [
              "<IPython.core.display.Image object>"
            ]
          },
          "metadata": {
            "image/png": {
              "width": 748,
              "height": 63
            }
          }
        },
        {
          "output_type": "stream",
          "name": "stdout",
          "text": [
            "Total Q:  12\n",
            "Total WNBD:  26\n",
            "Total Pressing:  30.0\n",
            "Total WNBD/Q 2.17\n",
            "ritim_list ['S2', 'S1', 'S4', 'S2', 'S8', 'S14', 'S11', 'S3']\n"
          ]
        },
        {
          "output_type": "display_data",
          "data": {
            "image/png": "[encoded data removed]",
            "text/plain": [
              "<IPython.core.display.Image object>"
            ]
          },
          "metadata": {
            "image/png": {
              "width": 748,
              "height": 60
            }
          }
        },
        {
          "output_type": "stream",
          "name": "stdout",
          "text": [
            "Total Q:  13\n",
            "Total WNBD:  26\n",
            "Total Pressing:  34.0\n",
            "Total WNBD/Q 2.00\n",
            "ritim_list ['S1', 'S2', 'S3', 'S2', 'S8', 'S7', 'S2', 'S11']\n"
          ]
        },
        {
          "output_type": "display_data",
          "data": {
            "image/png": "[encoded data removed]",
            "text/plain": [
              "<IPython.core.display.Image object>"
            ]
          },
          "metadata": {
            "image/png": {
              "width": 748,
              "height": 62
            }
          }
        },
        {
          "output_type": "stream",
          "name": "stdout",
          "text": [
            "Total Q:  12\n",
            "Total WNBD:  22\n",
            "Total Pressing:  31.0\n",
            "Total WNBD/Q 1.83\n",
            "ritim_list ['S4', 'S3', 'S4', 'S2', 'S2', 'S13', 'S9', 'S2']\n"
          ]
        },
        {
          "output_type": "display_data",
          "data": {
            "image/png": "[encoded data removed]",
            "text/plain": [
              "<IPython.core.display.Image object>"
            ]
          },
          "metadata": {
            "image/png": {
              "width": 748,
              "height": 63
            }
          }
        },
        {
          "output_type": "stream",
          "name": "stdout",
          "text": [
            "Total Q:  14\n",
            "Total WNBD:  32\n",
            "Total Pressing:  46.0\n",
            "Total WNBD/Q 2.29\n",
            "ritim_list ['S1', 'S3', 'S1', 'S1', 'S3', 'S3', 'S5', 'S2']\n"
          ]
        },
        {
          "output_type": "display_data",
          "data": {
            "image/png": "[encoded data removed]",
            "text/plain": [
              "<IPython.core.display.Image object>"
            ]
          },
          "metadata": {
            "image/png": {
              "width": 748,
              "height": 62
            }
          }
        },
        {
          "output_type": "stream",
          "name": "stdout",
          "text": [
            "Total Q:  13\n",
            "Total WNBD:  14\n",
            "Total Pressing:  9.5\n",
            "Total WNBD/Q 1.08\n",
            "ritim_list ['S3', 'S2', 'S4', 'S3', 'S13', 'S1', 'S13', 'S14']\n"
          ]
        },
        {
          "output_type": "display_data",
          "data": {
            "image/png": "[encoded data removed]",
            "text/plain": [
              "<IPython.core.display.Image object>"
            ]
          },
          "metadata": {
            "image/png": {
              "width": 748,
              "height": 63
            }
          }
        },
        {
          "output_type": "stream",
          "name": "stdout",
          "text": [
            "Total Q:  12\n",
            "Total WNBD:  24\n",
            "Total Pressing:  35.5\n",
            "Total WNBD/Q 2.00\n",
            "ritim_list ['S2', 'S1', 'S1', 'S4', 'S3', 'S6', 'S1', 'S14']\n"
          ]
        },
        {
          "output_type": "display_data",
          "data": {
            "image/png": "[encoded data removed]",
            "text/plain": [
              "<IPython.core.display.Image object>"
            ]
          },
          "metadata": {
            "image/png": {
              "width": 748,
              "height": 60
            }
          }
        },
        {
          "output_type": "stream",
          "name": "stdout",
          "text": [
            "Total Q:  14\n",
            "Total WNBD:  24\n",
            "Total Pressing:  20.5\n",
            "Total WNBD/Q 1.71\n",
            "ritim_list ['S4', 'S2', 'S2', 'S5', 'S13', 'S1', 'S7', 'S9']\n"
          ]
        },
        {
          "output_type": "display_data",
          "data": {
            "image/png": "[encoded data removed]",
            "text/plain": [
              "<IPython.core.display.Image object>"
            ]
          },
          "metadata": {
            "image/png": {
              "width": 748,
              "height": 63
            }
          }
        },
        {
          "output_type": "stream",
          "name": "stdout",
          "text": [
            "Total Q:  14\n",
            "Total WNBD:  32\n",
            "Total Pressing:  39.5\n",
            "Total WNBD/Q 2.29\n",
            "ritim_list ['S2', 'S1', 'S1', 'S4', 'S1', 'S10', 'S2', 'S9']\n"
          ]
        },
        {
          "output_type": "display_data",
          "data": {
            "image/png": "[encoded data removed]",
            "text/plain": [
              "<IPython.core.display.Image object>"
            ]
          },
          "metadata": {
            "image/png": {
              "width": 748,
              "height": 60
            }
          }
        },
        {
          "output_type": "stream",
          "name": "stdout",
          "text": [
            "Total Q:  12\n",
            "Total WNBD:  24\n",
            "Total Pressing:  32.0\n",
            "Total WNBD/Q 2.00\n",
            "ritim_list ['S1', 'S3', 'S5', 'S1', 'S14', 'S9', 'S11', 'S2']\n"
          ]
        },
        {
          "output_type": "display_data",
          "data": {
            "image/png": "[encoded data removed]",
            "text/plain": [
              "<IPython.core.display.Image object>"
            ]
          },
          "metadata": {
            "image/png": {
              "width": 748,
              "height": 62
            }
          }
        },
        {
          "output_type": "stream",
          "name": "stdout",
          "text": [
            "Total Q:  13\n",
            "Total WNBD:  26\n",
            "Total Pressing:  27.5\n",
            "Total WNBD/Q 2.00\n",
            "ritim_list ['S4', 'S2', 'S4', 'S2', 'S4', 'S2', 'S2', 'S1']\n"
          ]
        },
        {
          "output_type": "display_data",
          "data": {
            "image/png": "[encoded data removed]",
            "text/plain": [
              "<IPython.core.display.Image object>"
            ]
          },
          "metadata": {
            "image/png": {
              "width": 748,
              "height": 63
            }
          }
        },
        {
          "output_type": "stream",
          "name": "stdout",
          "text": [
            "Total Q:  14\n",
            "Total WNBD:  26\n",
            "Total Pressing:  38.5\n",
            "Total WNBD/Q 1.86\n",
            "ritim_list ['S1', 'S5', 'S4', 'S2', 'S1', 'S11', 'S11', 'S1']\n"
          ]
        },
        {
          "output_type": "display_data",
          "data": {
            "image/png": "[encoded data removed]",
            "text/plain": [
              "<IPython.core.display.Image object>"
            ]
          },
          "metadata": {
            "image/png": {
              "width": 748,
              "height": 62
            }
          }
        },
        {
          "output_type": "stream",
          "name": "stdout",
          "text": [
            "Total Q:  14\n",
            "Total WNBD:  22\n",
            "Total Pressing:  17.0\n",
            "Total WNBD/Q 1.57\n",
            "ritim_list ['S1', 'S2', 'S1', 'S5', 'S14', 'S5', 'S3', 'S3']\n"
          ]
        },
        {
          "output_type": "display_data",
          "data": {
            "image/png": "[encoded data removed]",
            "text/plain": [
              "<IPython.core.display.Image object>"
            ]
          },
          "metadata": {
            "image/png": {
              "width": 748,
              "height": 62
            }
          }
        },
        {
          "output_type": "stream",
          "name": "stdout",
          "text": [
            "Total Q:  14\n",
            "Total WNBD:  22\n",
            "Total Pressing:  17.0\n",
            "Total WNBD/Q 1.57\n",
            "ritim_list ['S3', 'S1', 'S5', 'S2', 'S7', 'S9', 'S2', 'S3']\n"
          ]
        },
        {
          "output_type": "display_data",
          "data": {
            "image/png": "[encoded data removed]",
            "text/plain": [
              "<IPython.core.display.Image object>"
            ]
          },
          "metadata": {
            "image/png": {
              "width": 748,
              "height": 63
            }
          }
        },
        {
          "output_type": "stream",
          "name": "stdout",
          "text": [
            "Total Q:  14\n",
            "Total WNBD:  26\n",
            "Total Pressing:  28.5\n",
            "Total WNBD/Q 1.86\n",
            "ritim_list ['S6', 'S1', 'S1', 'S2', 'S2', 'S4', 'S10', 'S1']\n"
          ]
        },
        {
          "output_type": "display_data",
          "data": {
            "image/png": "[encoded data removed]",
            "text/plain": [
              "<IPython.core.display.Image object>"
            ]
          },
          "metadata": {
            "image/png": {
              "width": 748,
              "height": 63
            }
          }
        },
        {
          "output_type": "stream",
          "name": "stdout",
          "text": [
            "Total Q:  14\n",
            "Total WNBD:  26\n",
            "Total Pressing:  23.0\n",
            "Total WNBD/Q 1.86\n"
          ]
        },
        {
          "output_type": "execute_result",
          "data": {
            "text/plain": [
              "''"
            ],
            "application/vnd.google.colaboratory.intrinsic+json": {
              "type": "string"
            }
          },
          "metadata": {},
          "execution_count": 58
        }
      ]
    },
    {
      "cell_type": "code",
      "source": [],
      "metadata": {
        "id": "wSBkEyQ-oLEm"
      },
      "execution_count": null,
      "outputs": []
    }
  ]
}